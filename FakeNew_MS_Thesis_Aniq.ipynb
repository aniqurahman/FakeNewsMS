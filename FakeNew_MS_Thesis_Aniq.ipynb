{
  "nbformat": 4,
  "nbformat_minor": 0,
  "metadata": {
    "colab": {
      "provenance": [],
      "collapsed_sections": [],
      "authorship_tag": "ABX9TyOCrKOZ/WjW3ZODr6983QVu",
      "include_colab_link": true
    },
    "kernelspec": {
      "name": "python3",
      "display_name": "Python 3"
    },
    "language_info": {
      "name": "python"
    }
  },
  "cells": [
    {
      "cell_type": "markdown",
      "metadata": {
        "id": "view-in-github",
        "colab_type": "text"
      },
      "source": [
        "<a href=\"https://colab.research.google.com/github/aniqurahman/FakeNewsMS/blob/main/FakeNew_MS_Thesis_Aniq.ipynb\" target=\"_parent\"><img src=\"https://colab.research.google.com/assets/colab-badge.svg\" alt=\"Open In Colab\"/></a>"
      ]
    },
    {
      "cell_type": "markdown",
      "source": [
        "Installing/Updating Packages"
      ],
      "metadata": {
        "id": "iwDrFJQhfKYi"
      }
    },
    {
      "cell_type": "code",
      "source": [
        "! pip install -U gensim                                                         # Gensim"
      ],
      "metadata": {
        "colab": {
          "base_uri": "https://localhost:8080/"
        },
        "id": "OU88O7tKk9vv",
        "outputId": "ace06e54-a3ee-40c1-f3d1-537086f1a25d"
      },
      "execution_count": 2,
      "outputs": [
        {
          "output_type": "stream",
          "name": "stdout",
          "text": [
            "Looking in indexes: https://pypi.org/simple, https://us-python.pkg.dev/colab-wheels/public/simple/\n",
            "Requirement already satisfied: gensim in /usr/local/lib/python3.7/dist-packages (4.2.0)\n",
            "Requirement already satisfied: smart-open>=1.8.1 in /usr/local/lib/python3.7/dist-packages (from gensim) (5.2.1)\n",
            "Requirement already satisfied: numpy>=1.17.0 in /usr/local/lib/python3.7/dist-packages (from gensim) (1.21.6)\n",
            "Requirement already satisfied: scipy>=0.18.1 in /usr/local/lib/python3.7/dist-packages (from gensim) (1.7.3)\n"
          ]
        }
      ]
    },
    {
      "cell_type": "code",
      "execution_count": 3,
      "metadata": {
        "id": "eWMUa2swfBfy"
      },
      "outputs": [],
      "source": [
        "import re\n",
        "import numpy as np\n",
        "import pandas as  pd\n",
        "from pprint import pprint   \n",
        "\n",
        "import gensim\n",
        "import gensim.corpora as corpora\n",
        "from gensim.utils import simple_preprocess\n",
        "from gensim.models import CoherenceModel                                        # spaCy for preprocessing\n",
        "import spacy                                                                    # Plotting tools\n",
        "import pyLDAvis.gensim_models\n",
        "import matplotlib.pyplot as plt\n",
        "%matplotlib inline\n",
        "\n",
        "import nltk\n",
        "from nltk.corpus import stopwords"
      ]
    },
    {
      "cell_type": "code",
      "source": [
        "#Download Packages\n",
        "nltk.download('stopwords')"
      ],
      "metadata": {
        "id": "r7punMLzg3Ig"
      },
      "execution_count": null,
      "outputs": []
    },
    {
      "cell_type": "code",
      "source": [
        "# NLTK Stop words\n",
        "\n",
        "stop_words = stopwords.words('english')\n",
        "stop_words.extend(['from', 'subject', 're', 'edu', 'use'])"
      ],
      "metadata": {
        "id": "5KrD1WukgcXI"
      },
      "execution_count": 4,
      "outputs": []
    },
    {
      "cell_type": "code",
      "source": [
        "# LoadDataset\n",
        "df=pd.read_json('https://raw.githubusercontent.com/selva86/datasets/master/newsgroups.json')\n",
        "print(df.target_names.unique())\n",
        "df.head()"
      ],
      "metadata": {
        "colab": {
          "base_uri": "https://localhost:8080/",
          "height": 313
        },
        "id": "6dFUw0QrhDkY",
        "outputId": "b3ac74e2-6098-4887-97bc-a895d8e589f0"
      },
      "execution_count": 5,
      "outputs": [
        {
          "output_type": "stream",
          "name": "stdout",
          "text": [
            "['rec.autos' 'comp.sys.mac.hardware' 'comp.graphics' 'sci.space'\n",
            " 'talk.politics.guns' 'sci.med' 'comp.sys.ibm.pc.hardware'\n",
            " 'comp.os.ms-windows.misc' 'rec.motorcycles' 'talk.religion.misc'\n",
            " 'misc.forsale' 'alt.atheism' 'sci.electronics' 'comp.windows.x'\n",
            " 'rec.sport.hockey' 'rec.sport.baseball' 'soc.religion.christian'\n",
            " 'talk.politics.mideast' 'talk.politics.misc' 'sci.crypt']\n"
          ]
        },
        {
          "output_type": "execute_result",
          "data": {
            "text/plain": [
              "                                             content  target  \\\n",
              "0  From: lerxst@wam.umd.edu (where's my thing)\\nS...       7   \n",
              "1  From: guykuo@carson.u.washington.edu (Guy Kuo)...       4   \n",
              "2  From: twillis@ec.ecn.purdue.edu (Thomas E Will...       4   \n",
              "3  From: jgreen@amber (Joe Green)\\nSubject: Re: W...       1   \n",
              "4  From: jcm@head-cfa.harvard.edu (Jonathan McDow...      14   \n",
              "\n",
              "            target_names  \n",
              "0              rec.autos  \n",
              "1  comp.sys.mac.hardware  \n",
              "2  comp.sys.mac.hardware  \n",
              "3          comp.graphics  \n",
              "4              sci.space  "
            ],
            "text/html": [
              "\n",
              "  <div id=\"df-991069f7-1250-4c7f-a158-649abbab14b7\">\n",
              "    <div class=\"colab-df-container\">\n",
              "      <div>\n",
              "<style scoped>\n",
              "    .dataframe tbody tr th:only-of-type {\n",
              "        vertical-align: middle;\n",
              "    }\n",
              "\n",
              "    .dataframe tbody tr th {\n",
              "        vertical-align: top;\n",
              "    }\n",
              "\n",
              "    .dataframe thead th {\n",
              "        text-align: right;\n",
              "    }\n",
              "</style>\n",
              "<table border=\"1\" class=\"dataframe\">\n",
              "  <thead>\n",
              "    <tr style=\"text-align: right;\">\n",
              "      <th></th>\n",
              "      <th>content</th>\n",
              "      <th>target</th>\n",
              "      <th>target_names</th>\n",
              "    </tr>\n",
              "  </thead>\n",
              "  <tbody>\n",
              "    <tr>\n",
              "      <th>0</th>\n",
              "      <td>From: lerxst@wam.umd.edu (where's my thing)\\nS...</td>\n",
              "      <td>7</td>\n",
              "      <td>rec.autos</td>\n",
              "    </tr>\n",
              "    <tr>\n",
              "      <th>1</th>\n",
              "      <td>From: guykuo@carson.u.washington.edu (Guy Kuo)...</td>\n",
              "      <td>4</td>\n",
              "      <td>comp.sys.mac.hardware</td>\n",
              "    </tr>\n",
              "    <tr>\n",
              "      <th>2</th>\n",
              "      <td>From: twillis@ec.ecn.purdue.edu (Thomas E Will...</td>\n",
              "      <td>4</td>\n",
              "      <td>comp.sys.mac.hardware</td>\n",
              "    </tr>\n",
              "    <tr>\n",
              "      <th>3</th>\n",
              "      <td>From: jgreen@amber (Joe Green)\\nSubject: Re: W...</td>\n",
              "      <td>1</td>\n",
              "      <td>comp.graphics</td>\n",
              "    </tr>\n",
              "    <tr>\n",
              "      <th>4</th>\n",
              "      <td>From: jcm@head-cfa.harvard.edu (Jonathan McDow...</td>\n",
              "      <td>14</td>\n",
              "      <td>sci.space</td>\n",
              "    </tr>\n",
              "  </tbody>\n",
              "</table>\n",
              "</div>\n",
              "      <button class=\"colab-df-convert\" onclick=\"convertToInteractive('df-991069f7-1250-4c7f-a158-649abbab14b7')\"\n",
              "              title=\"Convert this dataframe to an interactive table.\"\n",
              "              style=\"display:none;\">\n",
              "        \n",
              "  <svg xmlns=\"http://www.w3.org/2000/svg\" height=\"24px\"viewBox=\"0 0 24 24\"\n",
              "       width=\"24px\">\n",
              "    <path d=\"M0 0h24v24H0V0z\" fill=\"none\"/>\n",
              "    <path d=\"M18.56 5.44l.94 2.06.94-2.06 2.06-.94-2.06-.94-.94-2.06-.94 2.06-2.06.94zm-11 1L8.5 8.5l.94-2.06 2.06-.94-2.06-.94L8.5 2.5l-.94 2.06-2.06.94zm10 10l.94 2.06.94-2.06 2.06-.94-2.06-.94-.94-2.06-.94 2.06-2.06.94z\"/><path d=\"M17.41 7.96l-1.37-1.37c-.4-.4-.92-.59-1.43-.59-.52 0-1.04.2-1.43.59L10.3 9.45l-7.72 7.72c-.78.78-.78 2.05 0 2.83L4 21.41c.39.39.9.59 1.41.59.51 0 1.02-.2 1.41-.59l7.78-7.78 2.81-2.81c.8-.78.8-2.07 0-2.86zM5.41 20L4 18.59l7.72-7.72 1.47 1.35L5.41 20z\"/>\n",
              "  </svg>\n",
              "      </button>\n",
              "      \n",
              "  <style>\n",
              "    .colab-df-container {\n",
              "      display:flex;\n",
              "      flex-wrap:wrap;\n",
              "      gap: 12px;\n",
              "    }\n",
              "\n",
              "    .colab-df-convert {\n",
              "      background-color: #E8F0FE;\n",
              "      border: none;\n",
              "      border-radius: 50%;\n",
              "      cursor: pointer;\n",
              "      display: none;\n",
              "      fill: #1967D2;\n",
              "      height: 32px;\n",
              "      padding: 0 0 0 0;\n",
              "      width: 32px;\n",
              "    }\n",
              "\n",
              "    .colab-df-convert:hover {\n",
              "      background-color: #E2EBFA;\n",
              "      box-shadow: 0px 1px 2px rgba(60, 64, 67, 0.3), 0px 1px 3px 1px rgba(60, 64, 67, 0.15);\n",
              "      fill: #174EA6;\n",
              "    }\n",
              "\n",
              "    [theme=dark] .colab-df-convert {\n",
              "      background-color: #3B4455;\n",
              "      fill: #D2E3FC;\n",
              "    }\n",
              "\n",
              "    [theme=dark] .colab-df-convert:hover {\n",
              "      background-color: #434B5C;\n",
              "      box-shadow: 0px 1px 3px 1px rgba(0, 0, 0, 0.15);\n",
              "      filter: drop-shadow(0px 1px 2px rgba(0, 0, 0, 0.3));\n",
              "      fill: #FFFFFF;\n",
              "    }\n",
              "  </style>\n",
              "\n",
              "      <script>\n",
              "        const buttonEl =\n",
              "          document.querySelector('#df-991069f7-1250-4c7f-a158-649abbab14b7 button.colab-df-convert');\n",
              "        buttonEl.style.display =\n",
              "          google.colab.kernel.accessAllowed ? 'block' : 'none';\n",
              "\n",
              "        async function convertToInteractive(key) {\n",
              "          const element = document.querySelector('#df-991069f7-1250-4c7f-a158-649abbab14b7');\n",
              "          const dataTable =\n",
              "            await google.colab.kernel.invokeFunction('convertToInteractive',\n",
              "                                                     [key], {});\n",
              "          if (!dataTable) return;\n",
              "\n",
              "          const docLinkHtml = 'Like what you see? Visit the ' +\n",
              "            '<a target=\"_blank\" href=https://colab.research.google.com/notebooks/data_table.ipynb>data table notebook</a>'\n",
              "            + ' to learn more about interactive tables.';\n",
              "          element.innerHTML = '';\n",
              "          dataTable['output_type'] = 'display_data';\n",
              "          await google.colab.output.renderOutput(dataTable, element);\n",
              "          const docLink = document.createElement('div');\n",
              "          docLink.innerHTML = docLinkHtml;\n",
              "          element.appendChild(docLink);\n",
              "        }\n",
              "      </script>\n",
              "    </div>\n",
              "  </div>\n",
              "  "
            ]
          },
          "metadata": {},
          "execution_count": 5
        }
      ]
    },
    {
      "cell_type": "code",
      "source": [
        "# Convert to list \n",
        "data = df.content.values.tolist()  \n",
        "# Remove Emails \n",
        "data = [re.sub(r'\\S*@\\S*\\s?', '', sent) for sent in data]  \n",
        "# Remove new line characters \n",
        "data = [re.sub(r'\\s+', ' ', sent) for sent in data]  \n",
        "# Remove distracting single quotes \n",
        "data = [re.sub(\"\\'\", \"\", sent) for sent in data]  \n",
        "pprint(data[:1])"
      ],
      "metadata": {
        "colab": {
          "base_uri": "https://localhost:8080/"
        },
        "id": "5P50x-KfhXPW",
        "outputId": "5dec89b7-7329-4974-c563-6de01dc4eb5a"
      },
      "execution_count": 6,
      "outputs": [
        {
          "output_type": "stream",
          "name": "stdout",
          "text": [
            "['From: (wheres my thing) Subject: WHAT car is this!? Nntp-Posting-Host: '\n",
            " 'rac3.wam.umd.edu Organization: University of Maryland, College Park Lines: '\n",
            " '15 I was wondering if anyone out there could enlighten me on this car I saw '\n",
            " 'the other day. It was a 2-door sports car, looked to be from the late 60s/ '\n",
            " 'early 70s. It was called a Bricklin. The doors were really small. In '\n",
            " 'addition, the front bumper was separate from the rest of the body. This is '\n",
            " 'all I know. If anyone can tellme a model name, engine specs, years of '\n",
            " 'production, where this car is made, history, or whatever info you have on '\n",
            " 'this funky looking car, please e-mail. Thanks, - IL ---- brought to you by '\n",
            " 'your neighborhood Lerxst ---- ']\n"
          ]
        }
      ]
    },
    {
      "cell_type": "code",
      "source": [
        "def sent_to_words(sentences):\n",
        "  for sentence in sentences:\n",
        "    yield(gensim.utils.simple_preprocess(str(sentence), deacc=True))            #deacc=True removes punctuations\n",
        "data_words = list(sent_to_words(data))\n",
        "print(data_words[:1])"
      ],
      "metadata": {
        "colab": {
          "base_uri": "https://localhost:8080/"
        },
        "id": "YS5RBlRPh6k3",
        "outputId": "a202ad85-a20b-49cb-8f77-3de545e8db8e"
      },
      "execution_count": 7,
      "outputs": [
        {
          "output_type": "stream",
          "name": "stdout",
          "text": [
            "[['from', 'wheres', 'my', 'thing', 'subject', 'what', 'car', 'is', 'this', 'nntp', 'posting', 'host', 'rac', 'wam', 'umd', 'edu', 'organization', 'university', 'of', 'maryland', 'college', 'park', 'lines', 'was', 'wondering', 'if', 'anyone', 'out', 'there', 'could', 'enlighten', 'me', 'on', 'this', 'car', 'saw', 'the', 'other', 'day', 'it', 'was', 'door', 'sports', 'car', 'looked', 'to', 'be', 'from', 'the', 'late', 'early', 'it', 'was', 'called', 'bricklin', 'the', 'doors', 'were', 'really', 'small', 'in', 'addition', 'the', 'front', 'bumper', 'was', 'separate', 'from', 'the', 'rest', 'of', 'the', 'body', 'this', 'is', 'all', 'know', 'if', 'anyone', 'can', 'tellme', 'model', 'name', 'engine', 'specs', 'years', 'of', 'production', 'where', 'this', 'car', 'is', 'made', 'history', 'or', 'whatever', 'info', 'you', 'have', 'on', 'this', 'funky', 'looking', 'car', 'please', 'mail', 'thanks', 'il', 'brought', 'to', 'you', 'by', 'your', 'neighborhood', 'lerxst']]\n"
          ]
        }
      ]
    },
    {
      "cell_type": "code",
      "source": [
        "# Build the bigram and trigram models\n",
        "bigram = gensim.models.Phrases(data_words, min_count=5, threshold=100) # higher threshold fewer phrases.\n",
        "trigram = gensim.models.Phrases(bigram[data_words], threshold=100)\n",
        "# Faster way to get a sentence clubbed as a trigram/bigram\n",
        "bigram_mod = gensim.models.phrases.Phraser(bigram)\n",
        "trigram_mod = gensim.models.phrases.Phraser(trigram)\n",
        "# See trigram example\n",
        "print(trigram_mod[bigram_mod[data_words[0]]])"
      ],
      "metadata": {
        "colab": {
          "base_uri": "https://localhost:8080/"
        },
        "id": "JTz9D_8_iJxN",
        "outputId": "067d75be-cb4b-4fb8-f1d7-c94420d2dee6"
      },
      "execution_count": 8,
      "outputs": [
        {
          "output_type": "stream",
          "name": "stdout",
          "text": [
            "['from', 'wheres', 'my', 'thing', 'subject', 'what', 'car', 'is', 'this', 'nntp_posting_host', 'rac_wam_umd_edu', 'organization', 'university', 'of', 'maryland_college_park', 'lines', 'was', 'wondering', 'if', 'anyone', 'out', 'there', 'could', 'enlighten', 'me', 'on', 'this', 'car', 'saw', 'the', 'other', 'day', 'it', 'was', 'door', 'sports', 'car', 'looked', 'to', 'be', 'from', 'the', 'late', 'early', 'it', 'was', 'called', 'bricklin', 'the', 'doors', 'were', 'really', 'small', 'in', 'addition', 'the', 'front_bumper', 'was', 'separate', 'from', 'the', 'rest', 'of', 'the', 'body', 'this', 'is', 'all', 'know', 'if', 'anyone', 'can', 'tellme', 'model', 'name', 'engine', 'specs', 'years', 'of', 'production', 'where', 'this', 'car', 'is', 'made', 'history', 'or', 'whatever', 'info', 'you', 'have', 'on', 'this', 'funky', 'looking', 'car', 'please', 'mail', 'thanks', 'il', 'brought', 'to', 'you', 'by', 'your', 'neighborhood', 'lerxst']\n"
          ]
        }
      ]
    },
    {
      "cell_type": "code",
      "source": [
        "# Define function for stopwords, bigrams, trigrams and lemmatization\n",
        "def remove_stopwords(texts):\n",
        "    return [[word for word in simple_preprocess(str(doc)) if word not in stop_words] for doc in texts]\n",
        "\n",
        "def make_bigrams(texts):\n",
        "    return [bigram_mod[doc] for doc in texts]\n",
        "\n",
        "def make_trigrams(texts):\n",
        "    return [trigram_mod[bigram_mod[doc]] for doc in texts]\n",
        "\n",
        "def lemmatization(texts, allowed_postags=['NOUN', 'ADJ', 'VERB', 'ADV']):\n",
        "    \"\"\"https://spacy.io/api/annotation\"\"\"\n",
        "    texts_out = []\n",
        "    for sent in texts:\n",
        "        doc = nlp(\" \".join(sent)) \n",
        "        texts_out.append([token.lemma_ for token in doc if token.pos_ in allowed_postags])\n",
        "    return texts_out"
      ],
      "metadata": {
        "id": "4ZAfYfV6iUGW"
      },
      "execution_count": 9,
      "outputs": []
    },
    {
      "cell_type": "code",
      "source": [
        "# Remove Stop Words\n",
        "data_words_nostops = remove_stopwords(data_words)\n",
        "\n",
        "# Form Bigrams\n",
        "data_words_bigrams = make_bigrams(data_words_nostops)\n",
        "\n",
        "# Initialize spacy 'en' model, keeping only tagger component (for efficiency)\n",
        "# python3 -m spacy download en\n",
        "nlp = spacy.load('en_core_web_sm', disable=['parser', 'ner'])\n",
        "\n",
        "# Do lemmatization keeping only noun, adj, vb, adv\n",
        "data_lemmatized = lemmatization(data_words_bigrams, allowed_postags=['NOUN', 'ADJ', 'VERB', 'ADV'])\n",
        "\n",
        "print(data_lemmatized[:1])"
      ],
      "metadata": {
        "colab": {
          "base_uri": "https://localhost:8080/"
        },
        "id": "yZCeQlSpiesz",
        "outputId": "6e877667-afb4-4042-e62b-47d9cab86812"
      },
      "execution_count": 10,
      "outputs": [
        {
          "output_type": "stream",
          "name": "stderr",
          "text": [
            "/usr/local/lib/python3.7/dist-packages/spacy/language.py:1899: UserWarning: [W123] Argument disable with value ['parser', 'ner'] is used instead of ['senter'] as specified in the config. Be aware that this might affect other components in your pipeline.\n",
            "  config_value=config[\"nlp\"][key],\n"
          ]
        },
        {
          "output_type": "stream",
          "name": "stdout",
          "text": [
            "[['s', 'thing', 'car', 'nntp_poste', 'host', 'park', 'line', 'wonder', 'enlighten', 'car', 'see', 'day', 'door', 'sport', 'car', 'look', 'late', 'early', 'call', 'door', 'really', 'small', 'addition', 'separate', 'rest', 'body', 'know', 'tellme', 'model', 'name', 'engine', 'spec', 'year', 'production', 'car', 'make', 'history', 'info', 'funky', 'look', 'car', 'mail', 'thank', 'bring', 'neighborhood', 'lerxst']]\n"
          ]
        }
      ]
    },
    {
      "cell_type": "code",
      "source": [
        "# Create Dictionary \n",
        "id2word = corpora.Dictionary(data_lemmatized)  \n",
        "# Create Corpus \n",
        "texts = data_lemmatized  \n",
        "# Term Document Frequency \n",
        "corpus = [id2word.doc2bow(text) for text in texts]  \n",
        "# View \n",
        "print(corpus[:1])"
      ],
      "metadata": {
        "colab": {
          "base_uri": "https://localhost:8080/"
        },
        "id": "3hIU6ErNjYc4",
        "outputId": "2b9a42a4-203f-4498-b4ac-6a7c41e8c290"
      },
      "execution_count": 13,
      "outputs": [
        {
          "output_type": "stream",
          "name": "stdout",
          "text": [
            "[[(0, 1), (1, 1), (2, 1), (3, 1), (4, 5), (5, 1), (6, 2), (7, 1), (8, 1), (9, 1), (10, 1), (11, 1), (12, 1), (13, 1), (14, 1), (15, 1), (16, 1), (17, 1), (18, 2), (19, 1), (20, 1), (21, 1), (22, 1), (23, 1), (24, 1), (25, 1), (26, 1), (27, 1), (28, 1), (29, 1), (30, 1), (31, 1), (32, 1), (33, 1), (34, 1), (35, 1), (36, 1), (37, 1), (38, 1), (39, 1)]]\n"
          ]
        }
      ]
    },
    {
      "cell_type": "code",
      "source": [
        "lda_model = gensim.models.ldamodel.LdaModel(corpus=corpus,\n",
        "                                           id2word=id2word,\n",
        "                                           num_topics=20, \n",
        "                                           random_state=100,\n",
        "                                           update_every=1,\n",
        "                                           chunksize=100,\n",
        "                                           passes=10,\n",
        "                                           alpha='auto',\n",
        "                                           per_word_topics=True)"
      ],
      "metadata": {
        "id": "rtzrYEGZjax5"
      },
      "execution_count": 14,
      "outputs": []
    },
    {
      "cell_type": "code",
      "source": [
        "# Print the keyword of topics\n",
        "pprint(lda_model.print_topics())\n",
        "doc_lda = lda_model[corpus]"
      ],
      "metadata": {
        "colab": {
          "base_uri": "https://localhost:8080/"
        },
        "id": "25T98lXimp2k",
        "outputId": "efcfeec5-6265-41fa-efa3-5e0b7c9c55ea"
      },
      "execution_count": 15,
      "outputs": [
        {
          "output_type": "stream",
          "name": "stdout",
          "text": [
            "[(0,\n",
            "  '0.024*\"kill\" + 0.023*\"live\" + 0.021*\"death\" + 0.017*\"die\" + '\n",
            "  '0.017*\"physical\" + 0.015*\"center\" + 0.014*\"bike\" + 0.014*\"attack\" + '\n",
            "  '0.012*\"israeli\" + 0.012*\"fire\"'),\n",
            " (1,\n",
            "  '0.621*\"ax\" + 0.018*\"slow\" + 0.014*\"brain\" + 0.014*\"review\" + 0.012*\"mb\" + '\n",
            "  '0.011*\"clipper_chip\" + 0.010*\"sc\" + 0.010*\"printer\" + 0.009*\"box\" + '\n",
            "  '0.008*\"mouse\"'),\n",
            " (2,\n",
            "  '0.075*\"space\" + 0.063*\"gun\" + 0.022*\"launch\" + 0.021*\"earth\" + '\n",
            "  '0.019*\"firearm\" + 0.017*\"orbit\" + 0.017*\"mission\" + 0.017*\"series\" + '\n",
            "  '0.015*\"vehicle\" + 0.015*\"year\"'),\n",
            " (3,\n",
            "  '0.150*\"com\" + 0.048*\"mount\" + 0.046*\"apple\" + 0.037*\"ram\" + '\n",
            "  '0.026*\"corporation\" + 0.025*\"frame\" + 0.025*\"task\" + 0.022*\"spring\" + '\n",
            "  '0.020*\"locate\" + 0.019*\"spacecraft\"'),\n",
            " (4,\n",
            "  '0.024*\"evidence\" + 0.019*\"believe\" + 0.016*\"claim\" + 0.016*\"reason\" + '\n",
            "  '0.014*\"man\" + 0.014*\"exist\" + 0.012*\"sense\" + 0.012*\"book\" + 0.012*\"life\" + '\n",
            "  '0.011*\"faith\"'),\n",
            " (5,\n",
            "  '0.024*\"thank\" + 0.024*\"line\" + 0.019*\"program\" + 0.018*\"file\" + '\n",
            "  '0.017*\"mail\" + 0.017*\"system\" + 0.014*\"card\" + 0.014*\"include\" + '\n",
            "  '0.014*\"send\" + 0.013*\"run\"'),\n",
            " (6,\n",
            "  '0.322*\"drive\" + 0.080*\"disk\" + 0.054*\"scsi\" + 0.036*\"gateway\" + '\n",
            "  '0.035*\"motherboard\" + 0.015*\"bank\" + 0.015*\"please_respond\" + '\n",
            "  '0.014*\"greatly_appreciate\" + 0.012*\"fast\" + 0.012*\"n\"'),\n",
            " (7,\n",
            "  '0.099*\"nhl\" + 0.070*\"cop\" + 0.026*\"enable\" + 0.025*\"police\" + 0.020*\"plot\" '\n",
            "  '+ 0.018*\"conservative\" + 0.015*\"row\" + 0.014*\"neat\" + 0.014*\"closely\" + '\n",
            "  '0.011*\"sharp\"'),\n",
            " (8,\n",
            "  '0.073*\"directory\" + 0.061*\"battery\" + 0.027*\"phase\" + 0.019*\"consult\" + '\n",
            "  '0.016*\"sustain\" + 0.014*\"weeks_ago\" + 0.013*\"scott_roby\" + 0.010*\"ave\" + '\n",
            "  '0.009*\"space_shuttle\" + 0.009*\"powerbook\"'),\n",
            " (9,\n",
            "  '0.196*\"window\" + 0.058*\"do\" + 0.056*\"monitor\" + 0.054*\"character\" + '\n",
            "  '0.040*\"section\" + 0.039*\"recommend\" + 0.029*\"usenet\" + 0.028*\"font\" + '\n",
            "  '0.023*\"workstation\" + 0.020*\"laboratory\"'),\n",
            " (10,\n",
            "  '0.095*\"season\" + 0.053*\"pen\" + 0.044*\"trade\" + 0.042*\"objective\" + '\n",
            "  '0.040*\"rational\" + 0.039*\"star\" + 0.030*\"morality\" + 0.030*\"past\" + '\n",
            "  '0.027*\"predict\" + 0.024*\"penguin\"'),\n",
            " (11,\n",
            "  '0.045*\"soldier\" + 0.042*\"armenian\" + 0.040*\"village\" + 0.037*\"greek\" + '\n",
            "  '0.027*\"turk\" + 0.027*\"turkish\" + 0.025*\"occupy\" + 0.019*\"terrorism\" + '\n",
            "  '0.017*\"northern\" + 0.014*\"inhabitant\"'),\n",
            " (12,\n",
            "  '0.053*\"upgrade\" + 0.047*\"pack\" + 0.043*\"library\" + 0.040*\"dog\" + '\n",
            "  '0.038*\"status\" + 0.034*\"clock\" + 0.028*\"floppy\" + 0.025*\"electrical\" + '\n",
            "  '0.025*\"ftp_site\" + 0.025*\"routine\"'),\n",
            " (13,\n",
            "  '0.031*\"write\" + 0.022*\"make\" + 0.021*\"know\" + 0.021*\"say\" + 0.020*\"think\" + '\n",
            "  '0.020*\"article\" + 0.019*\"people\" + 0.015*\"see\" + 0.012*\"thing\" + '\n",
            "  '0.012*\"way\"'),\n",
            " (14,\n",
            "  '0.092*\"team\" + 0.087*\"game\" + 0.061*\"play\" + 0.056*\"win\" + 0.044*\"year\" + '\n",
            "  '0.027*\"division\" + 0.023*\"score\" + 0.022*\"wing\" + 0.021*\"fan\" + '\n",
            "  '0.019*\"run\"'),\n",
            " (15,\n",
            "  '0.070*\"state\" + 0.059*\"government\" + 0.055*\"law\" + 0.037*\"right\" + '\n",
            "  '0.022*\"country\" + 0.021*\"protect\" + 0.018*\"pin\" + 0.017*\"crime\" + '\n",
            "  '0.017*\"watch\" + 0.016*\"citizen\"'),\n",
            " (16,\n",
            "  '0.047*\"line\" + 0.044*\"get\" + 0.034*\"go\" + 0.030*\"nntp_poste\" + '\n",
            "  '0.027*\"organization\" + 0.023*\"host\" + 0.021*\"m\" + 0.019*\"good\" + '\n",
            "  '0.015*\"look\" + 0.014*\"time\"'),\n",
            " (17,\n",
            "  '0.060*\"key\" + 0.047*\"system\" + 0.034*\"chip\" + 0.030*\"bit\" + '\n",
            "  '0.029*\"technology\" + 0.023*\"public\" + 0.023*\"phone\" + 0.022*\"datum\" + '\n",
            "  '0.021*\"cpu\" + 0.018*\"encryption\"'),\n",
            " (18,\n",
            "  '0.048*\"problem\" + 0.035*\"use\" + 0.015*\"talk\" + 0.014*\"work\" + 0.014*\"high\" '\n",
            "  '+ 0.014*\"science\" + 0.010*\"set\" + 0.010*\"value\" + 0.010*\"current\" + '\n",
            "  '0.010*\"reference\"'),\n",
            " (19,\n",
            "  '0.044*\"model\" + 0.040*\"device\" + 0.036*\"wire\" + 0.033*\"power\" + '\n",
            "  '0.032*\"replace\" + 0.030*\"bus\" + 0.026*\"unit\" + 0.025*\"internal\" + '\n",
            "  '0.023*\"ground\" + 0.022*\"external\"')]\n"
          ]
        }
      ]
    },
    {
      "cell_type": "code",
      "source": [
        "# Compute Perplexity\n",
        "print('\\nPerplexity: ', lda_model.log_perplexity(corpus))  \n",
        "# a measure of how good the model is. lower the better.\n",
        "\n",
        "# Compute Coherence Score\n",
        "coherence_model_lda = CoherenceModel(model=lda_model, texts=data_lemmatized, dictionary=id2word, coherence='c_v')\n",
        "coherence_lda = coherence_model_lda.get_coherence()\n",
        "print('\\nCoherence Score: ', coherence_lda)"
      ],
      "metadata": {
        "colab": {
          "base_uri": "https://localhost:8080/"
        },
        "id": "iYaMtvBWnGtX",
        "outputId": "5306eb06-089a-4bba-fd83-fa0f1e1333c5"
      },
      "execution_count": 16,
      "outputs": [
        {
          "output_type": "stream",
          "name": "stdout",
          "text": [
            "\n",
            "Perplexity:  -13.257142565639992\n",
            "\n",
            "Coherence Score:  0.484063757142487\n"
          ]
        }
      ]
    },
    {
      "cell_type": "code",
      "source": [
        "# Visualize the topics\n",
        "pyLDAvis.enable_notebook()\n",
        "vis = pyLDAvis.gensim_models.prepare(lda_model, corpus, id2word)\n",
        "vis"
      ],
      "metadata": {
        "colab": {
          "base_uri": "https://localhost:8080/",
          "height": 917
        },
        "id": "Bq0Ja-2NnL0G",
        "outputId": "1d94b63e-26fd-4faf-df37-f4bcd5d6b5a9"
      },
      "execution_count": 18,
      "outputs": [
        {
          "output_type": "stream",
          "name": "stderr",
          "text": [
            "/usr/local/lib/python3.7/dist-packages/pyLDAvis/_prepare.py:247: FutureWarning: In a future version of pandas all arguments of DataFrame.drop except for the argument 'labels' will be keyword-only\n",
            "  by='saliency', ascending=False).head(R).drop('saliency', 1)\n"
          ]
        },
        {
          "output_type": "execute_result",
          "data": {
            "text/plain": [
              "PreparedData(topic_coordinates=              x         y  topics  cluster       Freq\n",
              "topic                                                \n",
              "13     0.336252  0.115210       1        1  28.822151\n",
              "16     0.304278  0.125151       2        1  17.010680\n",
              "5      0.261910 -0.202374       3        1  11.287737\n",
              "4      0.230874  0.073268       4        1   9.723189\n",
              "18     0.195257 -0.153352       5        1   7.079451\n",
              "1     -0.010802 -0.012742       6        1   5.824931\n",
              "0      0.091961  0.181128       7        1   4.802094\n",
              "17     0.099937 -0.306563       8        1   3.502904\n",
              "15     0.021472  0.091379       9        1   2.884024\n",
              "14    -0.001591  0.057426      10        1   1.907851\n",
              "2     -0.025516 -0.010307      11        1   1.763502\n",
              "19    -0.092997  0.016799      12        1   1.355953\n",
              "11    -0.086043  0.074242      13        1   1.134763\n",
              "9     -0.151772 -0.003563      14        1   0.730666\n",
              "6     -0.162325 -0.019765      15        1   0.563621\n",
              "3     -0.182897 -0.007964      16        1   0.481568\n",
              "10    -0.189351 -0.005164      17        1   0.402312\n",
              "12    -0.198896 -0.006804      18        1   0.372311\n",
              "7     -0.215820 -0.001345      19        1   0.215188\n",
              "8     -0.223931 -0.004659      20        1   0.135102, topic_info=           Term         Freq         Total Category  logprob  loglift\n",
              "4327         ax  46130.00000  46130.000000  Default  30.0000  30.0000\n",
              "17         line  17429.00000  17429.000000  Default  29.0000  29.0000\n",
              "113         get  10572.00000  10572.000000  Default  28.0000  28.0000\n",
              "116          go   7849.00000   7849.000000  Default  27.0000  27.0000\n",
              "366       drive   2315.00000   2315.000000  Default  26.0000  26.0000\n",
              "...         ...          ...           ...      ...      ...      ...\n",
              "4840       kick      0.02608      1.260524  Topic20 -11.0985   2.7288\n",
              "5253  equipment      0.02608      1.260549  Topic20 -11.0985   2.7288\n",
              "4436        rlk      0.02608      1.260571  Topic20 -11.0985   2.7287\n",
              "4714     select      0.02608      1.260583  Topic20 -11.0985   2.7287\n",
              "3890      slave      0.02608      1.260715  Topic20 -11.0985   2.7286\n",
              "\n",
              "[859 rows x 6 columns], token_table=      Topic      Freq     Term\n",
              "term                          \n",
              "354      16  0.966707   absurd\n",
              "1340      4  0.999062   accept\n",
              "86        3  0.172479   access\n",
              "86        8  0.825224   access\n",
              "2684      7  0.997124  account\n",
              "...     ...       ...      ...\n",
              "613       1  0.068465    young\n",
              "613       4  0.017116    young\n",
              "613       7  0.836069    young\n",
              "613      10  0.077682    young\n",
              "2592     12  0.995957     zone\n",
              "\n",
              "[1130 rows x 3 columns], R=30, lambda_step=0.01, plot_opts={'xlab': 'PC1', 'ylab': 'PC2'}, topic_order=[14, 17, 6, 5, 19, 2, 1, 18, 16, 15, 3, 20, 12, 10, 7, 4, 11, 13, 8, 9])"
            ],
            "text/html": [
              "\n",
              "<link rel=\"stylesheet\" type=\"text/css\" href=\"https://cdn.jsdelivr.net/gh/bmabey/pyLDAvis@3.3.1/pyLDAvis/js/ldavis.v1.0.0.css\">\n",
              "\n",
              "\n",
              "<div id=\"ldavis_el4091407069053929764470708551\"></div>\n",
              "<script type=\"text/javascript\">\n",
              "\n",
              "var ldavis_el4091407069053929764470708551_data = {\"mdsDat\": {\"x\": [0.33625225555675736, 0.30427777691209085, 0.2619102500451968, 0.23087426810883752, 0.1952572085306173, -0.010802278820297441, 0.09196096737464925, 0.09993652495939517, 0.02147157564815029, -0.0015907534736574265, -0.025515577849109013, -0.09299747396976726, -0.08604337511241737, -0.1517717825901844, -0.16232527747362743, -0.18289701749306056, -0.18935050281664692, -0.19889570502220258, -0.21581992347901702, -0.22393115903570637], \"y\": [0.11520997422651785, 0.12515073206551536, -0.20237413109604274, 0.07326791496129126, -0.15335245483031823, -0.012742435769336407, 0.18112750132684732, -0.30656333050984697, 0.09137930769056476, 0.05742630539126562, -0.010306645828741945, 0.016799387631796756, 0.07424152314425239, -0.003562878067374244, -0.019765033476486657, -0.007963529625748185, -0.005163666410869551, -0.006804308219316826, -0.001345466571164718, -0.0046587660328060426], \"topics\": [1, 2, 3, 4, 5, 6, 7, 8, 9, 10, 11, 12, 13, 14, 15, 16, 17, 18, 19, 20], \"cluster\": [1, 1, 1, 1, 1, 1, 1, 1, 1, 1, 1, 1, 1, 1, 1, 1, 1, 1, 1, 1], \"Freq\": [28.82215117688679, 17.010680160209148, 11.28773718048543, 9.72318923129821, 7.079450775989861, 5.824931193142762, 4.802094498008567, 3.5029042050707964, 2.884024006094479, 1.9078510490075256, 1.7635022961473144, 1.3559530290590929, 1.1347628951461963, 0.7306663745338519, 0.563620522549323, 0.4815682710752528, 0.40231207186800244, 0.37231050576297614, 0.21518840956712176, 0.13510214809729235]}, \"tinfo\": {\"Term\": [\"ax\", \"line\", \"get\", \"go\", \"drive\", \"problem\", \"year\", \"system\", \"write\", \"use\", \"nntp_poste\", \"right\", \"state\", \"do\", \"key\", \"window\", \"people\", \"team\", \"game\", \"organization\", \"make\", \"think\", \"article\", \"host\", \"government\", \"thank\", \"know\", \"law\", \"m\", \"say\", \"seem\", \"hear\", \"course\", \"far\", \"lot\", \"opinion\", \"rather\", \"wrong\", \"agree\", \"one\", \"religion\", \"perhaps\", \"patient\", \"internet\", \"difference\", \"mind\", \"suggest\", \"certainly\", \"effect\", \"care\", \"likely\", \"soon\", \"drug\", \"school\", \"goal\", \"risk\", \"learn\", \"sort\", \"serious\", \"worth\", \"university\", \"idea\", \"actually\", \"make\", \"consider\", \"think\", \"way\", \"point\", \"even\", \"question\", \"thing\", \"know\", \"give\", \"say\", \"people\", \"write\", \"see\", \"answer\", \"article\", \"many\", \"never\", \"try\", \"find\", \"mean\", \"case\", \"well\", \"tell\", \"take\", \"sure\", \"want\", \"also\", \"line\", \"time\", \"good\", \"organization\", \"car\", \"buy\", \"driver\", \"guy\", \"month\", \"sorry\", \"job\", \"anyway\", \"amount\", \"advice\", \"performance\", \"eat\", \"wait\", \"minute\", \"drop\", \"baseball\", \"owner\", \"dealer\", \"mile\", \"room\", \"sit\", \"ago\", \"door\", \"night\", \"insurance\", \"around\", \"stick\", \"mine\", \"kid\", \"ticket\", \"back\", \"big\", \"go\", \"get\", \"light\", \"nntp_poste\", \"pay\", \"week\", \"old\", \"lose\", \"host\", \"turn\", \"money\", \"m\", \"look\", \"ve\", \"move\", \"last\", \"couple\", \"line\", \"organization\", \"d\", \"good\", \"come\", \"s\", \"start\", \"year\", \"day\", \"next\", \"time\", \"new\", \"work\", \"re\", \"article\", \"well\", \"write\", \"want\", \"much\", \"take\", \"thank\", \"file\", \"mail\", \"card\", \"software\", \"machine\", \"email\", \"info\", \"sale\", \"copy\", \"player\", \"version\", \"entry\", \"image\", \"color\", \"screen\", \"graphic\", \"video\", \"tape\", \"instal\", \"server\", \"appreciate\", \"advance\", \"board\", \"package\", \"engineering\", \"format\", \"option\", \"version_pl\", \"program\", \"test\", \"keyword\", \"available\", \"computer\", \"address\", \"list\", \"send\", \"include\", \"memory\", \"information\", \"run\", \"system\", \"help\", \"support\", \"line\", \"need\", \"use\", \"also\", \"number\", \"evidence\", \"claim\", \"exist\", \"faith\", \"christian\", \"god\", \"accept\", \"argument\", \"discussion\", \"truth\", \"belief\", \"atheist\", \"church\", \"human\", \"event\", \"conclusion\", \"religious\", \"publish\", \"lie\", \"authority\", \"therefore\", \"family\", \"nature\", \"respect\", \"bible\", \"handle\", \"christianity\", \"future\", \"proof\", \"universe\", \"prove\", \"statement\", \"society\", \"life\", \"man\", \"sense\", \"word\", \"book\", \"believe\", \"study\", \"reason\", \"present\", \"whole\", \"world\", \"issue\", \"follow\", \"become\", \"come\", \"explain\", \"child\", \"fact\", \"say\", \"part\", \"problem\", \"science\", \"value\", \"error\", \"process\", \"faq\", \"newsgroup\", \"input\", \"main\", \"switch\", \"fine\", \"material\", \"signal\", \"blank\", \"fix\", \"track\", \"hole\", \"circuit\", \"plane\", \"range\", \"scripture\", \"wide\", \"crash\", \"actual\", \"data\", \"output\", \"topic\", \"apr\", \"prefer\", \"gmt\", \"function\", \"reference\", \"current\", \"level\", \"talk\", \"relate\", \"scientific\", \"use\", \"single\", \"possibility\", \"high\", \"design\", \"small\", \"require\", \"produce\", \"build\", \"set\", \"result\", \"work\", \"lead\", \"part\", \"sometimes\", \"bit\", \"first\", \"time\", \"ax\", \"slow\", \"brain\", \"review\", \"mb\", \"clipper_chip\", \"sc\", \"printer\", \"box\", \"mouse\", \"law_enforcement\", \"saturn\", \"headache\", \"dual\", \"specify\", \"export\", \"crypto\", \"distance\", \"ide\", \"hopefully\", \"brown\", \"pop\", \"reflect\", \"mph\", \"distribution_usa\", \"purdue_university\", \"programmer\", \"improvement\", \"bounce\", \"suitable\", \"death\", \"die\", \"physical\", \"bike\", \"israeli\", \"fire\", \"city\", \"reality\", \"shoot\", \"account\", \"direct\", \"dead\", \"trial\", \"concept\", \"fight\", \"arab\", \"race\", \"bomb\", \"stay\", \"withdraw\", \"step\", \"foot\", \"building\", \"wife\", \"house\", \"electronic\", \"blood\", \"rider\", \"club\", \"impression\", \"kill\", \"black\", \"white\", \"war\", \"center\", \"live\", \"attack\", \"notice\", \"land\", \"young\", \"force\", \"murder\", \"report\", \"child\", \"leave\", \"area\", \"stop\", \"key\", \"chip\", \"phone\", \"cpu\", \"encryption\", \"security\", \"distribution\", \"self\", \"originator\", \"clipper\", \"master\", \"ride\", \"controller\", \"quality\", \"license\", \"secure\", \"motif\", \"tap\", \"secret\", \"interface\", \"listen\", \"procedure\", \"link\", \"blind\", \"helmet\", \"facility\", \"register\", \"compile\", \"privacy\", \"somehow\", \"technology\", \"datum\", \"access\", \"block\", \"bit\", \"public\", \"system\", \"private\", \"obtain\", \"digital\", \"message\", \"use\", \"provide\", \"information\", \"law\", \"protect\", \"pin\", \"crime\", \"watch\", \"citizen\", \"weapon\", \"bear\", \"united_state\", \"criminal\", \"count\", \"vote\", \"processor\", \"bill\", \"court\", \"aware\", \"protection\", \"draft\", \"agent\", \"ban\", \"gun_control\", \"restrict\", \"violation\", \"remind\", \"connector\", \"restriction\", \"penalty\", \"million\", \"danger\", \"neighbor\", \"national\", \"government\", \"state\", \"policy\", \"meet\", \"arm\", \"country\", \"official\", \"transfer\", \"right\", \"industry\", \"rate\", \"talk\", \"power\", \"team\", \"game\", \"play\", \"win\", \"division\", \"score\", \"wing\", \"fan\", \"generate\", \"cycle\", \"stat\", \"ice\", \"european\", \"rd\", \"canadian\", \"offense\", \"blue\", \"pitch\", \"cylinder\", \"widget\", \"hr\", \"brave\", \"coverage\", \"twice\", \"staff\", \"hitter\", \"era\", \"deficit\", \"investment\", \"starter\", \"final\", \"defense\", \"year\", \"hit\", \"run\", \"pick\", \"first\", \"last\", \"second\", \"total\", \"next\", \"space\", \"gun\", \"launch\", \"firearm\", \"orbit\", \"mission\", \"series\", \"vehicle\", \"moon\", \"satellite\", \"flight\", \"rocket\", \"channel\", \"mirror\", \"planet\", \"mar\", \"shuttle\", \"fuel\", \"conference\", \"collect\", \"tie\", \"astronomy\", \"confirm\", \"specification\", \"radiation\", \"sky\", \"usage\", \"speaker\", \"ammunition\", \"training\", \"earth\", \"safety\", \"research\", \"year\", \"increase\", \"development\", \"project\", \"report\", \"model\", \"device\", \"wire\", \"replace\", \"bus\", \"unit\", \"internal\", \"external\", \"air\", \"cable\", \"warranty\", \"benefit\", \"ensure\", \"zone\", \"band\", \"serial\", \"nuclear\", \"dept\", \"acquire\", \"spec\", \"production\", \"middle\", \"trace\", \"wiring\", \"power_supply\", \"heat\", \"panel\", \"amp\", \"customer\", \"reserve_university\", \"hot\", \"ground\", \"component\", \"radio\", \"power\", \"soldier\", \"armenian\", \"village\", \"turk\", \"turkish\", \"occupy\", \"northern\", \"inhabitant\", \"lock\", \"escape\", \"troop\", \"distribution_world\", \"aged\", \"muslim\", \"serdar_argic\", \"crack\", \"genocide\", \"render\", \"exclude\", \"nazi\", \"massacre\", \"moslem\", \"foreign\", \"slaughter\", \"region\", \"soviet\", \"occupation\", \"hi\", \"wound\", \"kurd\", \"greek\", \"russian\", \"terrorism\", \"territory\", \"town\", \"close\", \"people\", \"window\", \"monitor\", \"character\", \"recommend\", \"usenet\", \"font\", \"workstation\", \"laboratory\", \"trivial\", \"unix\", \"menu\", \"unable\", \"afford\", \"click\", \"ms_window\", \"upper\", \"flag\", \"enhancement\", \"controversial\", \"in\", \"inferior\", \"user_interface\", \"section\", \"alavi\", \"helpful\", \"do\", \"application\", \"document\", \"avoid\", \"transfer\", \"display\", \"top\", \"normal\", \"drive\", \"disk\", \"scsi\", \"gateway\", \"motherboard\", \"bank\", \"please_respond\", \"greatly_appreciate\", \"n\", \"simms\", \"impressive\", \"meg\", \"simm\", \"purchasing\", \"hassle\", \"dinner\", \"australian\", \"interactive\", \"bk\", \"visualization\", \"involved\", \"ns\", \"silverline\", \"fast\", \"pc\", \"memory\", \"plug\", \"slave\", \"jumper\", \"cp_ut\", \"com\", \"mount\", \"apple\", \"ram\", \"corporation\", \"frame\", \"task\", \"spring\", \"locate\", \"spacecraft\", \"up\", \"fee\", \"tip\", \"restore\", \"giant\", \"rob\", \"unique\", \"paint\", \"cooperation\", \"vms_vnews\", \"diagnostic\", \"cmu\", \"excellent_condition\", \"po_andrew\", \"tail\", \"peripheral\", \"absurd\", \"io\", \"thunder\", \"digital_equipment\", \"season\", \"pen\", \"rational\", \"morality\", \"past\", \"predict\", \"penguin\", \"leafs\", \"camera\", \"captain\", \"objective\", \"flyer\", \"koresh\", \"playing\", \"atom\", \"mathematical\", \"evolve\", \"comprise\", \"outer\", \"explode\", \"sunlight\", \"team_captain\", \"cosmic\", \"squad\", \"clinton_gore\", \"comprehend\", \"star\", \"trade\", \"moral\", \"reluctant\", \"upgrade\", \"pack\", \"library\", \"dog\", \"status\", \"clock\", \"floppy\", \"electrical\", \"ftp_site\", \"routine\", \"regularly\", \"sad\", \"length\", \"scare\", \"brief\", \"please\", \"alarm\", \"intelligence\", \"excerpt\", \"pseudo\", \"satisfactory\", \"functionality\", \"chase\", \"dod_fxwg\", \"lady_cb\", \"wide_glide\", \"wild_corn\", \"si\", \"pegasus\", \"ripem\", \"nhl\", \"cop\", \"enable\", \"plot\", \"conservative\", \"row\", \"neat\", \"closely\", \"sharp\", \"fatal\", \"hype\", \"void\", \"manifest\", \"compiler\", \"physics_laboratory\", \"ist\", \"ists_ca\", \"solar_terresterial\", \"deepak_chhabra\", \"bee\", \"initialize\", \"radar\", \"police\", \"hockey\", \"admiral\", \"franchise\", \"league\", \"radar_detector\", \"assertion\", \"arena\", \"slave\", \"playoff\", \"jumper\", \"directory\", \"battery\", \"phase\", \"consult\", \"sustain\", \"weeks_ago\", \"scott_roby\", \"ave\", \"space_shuttle\", \"powerbook\", \"ssf\", \"batf_fbi\", \"switchover\", \"inverter\", \"dock\", \"ctrl_key\", \"electrolyte\", \"construct_home\", \"copper\", \"metal\", \"beast\", \"usr_user\", \"devguide\", \"lamp\", \"standby\", \"discharge\", \"timer\", \"obtainable\", \"grade\", \"ooo\", \"slot\", \"kick\", \"equipment\", \"rlk\", \"select\", \"slave\"], \"Freq\": [46130.0, 17429.0, 10572.0, 7849.0, 2315.0, 4367.0, 4842.0, 5006.0, 13813.0, 6290.0, 7098.0, 3953.0, 2862.0, 2220.0, 2697.0, 1823.0, 8018.0, 2243.0, 2125.0, 9354.0, 8289.0, 7749.0, 9856.0, 5773.0, 2249.0, 3448.0, 8601.0, 2031.0, 5804.0, 9015.0, 3115.4719723602825, 2090.7864874231873, 2069.183348217829, 2008.3728000912631, 1982.2741852153558, 1615.5049284381446, 1593.9070959517148, 1493.333474076761, 1404.6488712236692, 1223.0570579105618, 1110.648596902163, 1071.3550821867254, 1012.7546969017293, 975.4696041163292, 954.6650405175016, 953.3987033150764, 866.3181846465503, 822.3296787472923, 813.013391298968, 800.1813169681286, 787.3351199175595, 746.7747544462521, 710.0717316943154, 705.8961998198237, 673.5473827450189, 678.0586929801132, 642.1211216375233, 611.802723698638, 590.8124249373054, 568.49176597744, 1756.1495849438338, 1670.901424966049, 1518.900903506352, 7904.389342267247, 1716.901776484976, 7376.4947464246525, 4305.242806974954, 3688.0320231345095, 3927.638599621157, 3409.462831535302, 4349.917163499628, 7699.86634054075, 3834.128734193769, 7606.409199933686, 6816.286683102698, 11220.889413978264, 5356.752728989819, 1290.5821461422875, 7233.287287045357, 3332.5585455582745, 2213.8354334371065, 3270.424399020198, 3129.4734934769776, 2552.4775392317883, 2488.056025650954, 3889.119009946904, 2475.9094595765673, 2933.746635151549, 2173.154810867495, 2735.815091887962, 2957.8675557118613, 3836.1678837382487, 2672.9801160823317, 2449.5021990803866, 2410.7054617304693, 2239.932502549033, 1747.918971038655, 1418.3317265112473, 811.8459685197978, 809.7760214301251, 746.1036285705746, 667.7990496920845, 634.755114707548, 586.5461500418827, 545.722182325318, 533.9736564895802, 508.49612171456556, 503.8299004479665, 503.33908616830865, 468.4276220457863, 414.76087432316587, 411.50660288402435, 404.81193349139386, 399.1448875532653, 398.0600546327576, 383.3234013505067, 357.9373764630589, 354.2731164798969, 352.2735382963134, 346.55850207765013, 344.5849901938097, 338.05929710474607, 328.6663110439472, 437.10850825975103, 267.13799762847435, 2619.6512023803257, 1517.4619654662288, 7307.356959833451, 9613.027457948418, 847.6908183406774, 6438.0301023843485, 1264.7519173259554, 1215.129462092247, 1876.282969284143, 1245.7885832307184, 4886.981406602693, 1158.5081043453604, 1268.5110212582792, 4563.486502931121, 3321.2935535824, 2363.1539633645943, 973.2679452213893, 1785.3930151095599, 825.0528432068575, 10155.42229731797, 5905.234531507767, 1727.4684434076905, 4033.591767706565, 3059.751374212524, 2745.106686528903, 1653.1072511387777, 2864.3557645022274, 1816.368467970882, 1304.6599273934096, 3115.5845800047764, 2135.9631257692736, 2261.0852037583472, 1539.3998886972597, 2621.599506737864, 2147.7038721279564, 2552.7505286072496, 1749.7335088037137, 1649.3455203700455, 1625.1469013132378, 3447.339234664103, 2580.0700944554583, 2504.089076795337, 2055.7796192630058, 1580.6382042103587, 1494.8265968387875, 1389.8766010652937, 1290.297046113338, 1279.8605336976582, 1234.661167095916, 1190.0918582032193, 1154.9158931847307, 1142.7050556650286, 1116.439466257717, 982.9963542157975, 951.1026157688623, 912.3501112034309, 912.073899481653, 797.5605421333618, 773.1050110455358, 772.8359727835225, 741.6321602659115, 713.4055346756573, 708.9888287944135, 675.1085112844391, 665.971199586316, 637.4729211085269, 627.220907396326, 584.5445203396481, 2767.1587521176784, 1146.2461972049084, 1121.525851480912, 1497.8288573544805, 1884.1384373496119, 1350.3296525913509, 1556.9423223991016, 1952.0442846485341, 2031.240755366886, 967.1039228365249, 1712.809267415139, 1932.3415393840082, 2493.862002588112, 1669.3367604079485, 1294.8234321831324, 3432.447132192755, 1804.126337551855, 1931.670049916696, 1850.3291840204834, 1447.5957332483772, 2933.711656530587, 2038.4136043469666, 1711.7583744857131, 1397.8996969189602, 1191.6348985827153, 1021.3652400787817, 1013.7560765707037, 944.2645514470796, 923.961340655254, 913.8452799546194, 901.756560852682, 801.2310229185888, 749.0030740848268, 737.3551554037783, 712.9692422202877, 660.847147856785, 617.806419952981, 600.9689757613421, 556.2542110960122, 541.7006940425541, 484.3391210223759, 477.2941104439014, 477.10454836063565, 451.31235305356637, 428.73044143537595, 418.3920459226854, 404.0205835432549, 363.09830215323, 362.15205096805056, 348.6408510633706, 953.2597559484437, 673.0717510659347, 457.54237660992715, 1440.209838405279, 1769.9517684494895, 1503.4606852263541, 1151.0276685088386, 1441.6644278198405, 2372.497242401562, 682.765837618078, 1958.8909677457036, 699.8209966776261, 795.7509606704781, 1023.504043221457, 1085.1293626945458, 1128.0992322050013, 881.2157694331169, 1346.3839702247008, 760.3297911490819, 846.8845602345107, 897.1343067339941, 1060.0333640957206, 811.893276515957, 4365.9365406791785, 1227.4774621924716, 926.2457705045043, 857.9211805134629, 724.4024180738695, 679.3721290874184, 653.6967765771722, 652.5987547678428, 598.2809437123832, 522.9591451988666, 519.872582935045, 492.4684999097966, 474.5549010150423, 449.9192928297212, 431.82829659968456, 419.6755910225457, 390.41852786727765, 377.32278663341674, 352.48007473277625, 350.32542662883327, 350.3021114303469, 346.5746440034441, 338.61371257870076, 334.52999985121045, 328.53128730430933, 317.05722429447434, 313.4865930990489, 312.94973384878017, 307.6040360721091, 286.27199599260814, 735.0210298425769, 880.1179222284413, 910.4681297123815, 819.2401519725258, 1388.7617878401581, 566.4983547106131, 449.82632636650504, 3156.273908398153, 821.6350790697066, 486.355881370651, 1227.9583145096767, 651.9484940922941, 776.498368500985, 814.8214067805822, 577.6609737615869, 795.9552275040267, 926.7333503812364, 687.5102896584558, 1238.4516254821904, 670.0291887468048, 812.6394910369306, 589.5188440424472, 653.3433274185131, 654.0118365992793, 612.8521648922951, 46128.98380423201, 1362.7562308846625, 1068.4027714769095, 1038.043747659405, 878.4406741828011, 802.0937095864269, 762.0540373461257, 748.173959908209, 647.3164645000479, 596.6132648881628, 584.2248385856174, 472.2338605914999, 462.54712323188545, 438.9092131777631, 405.80106898336834, 377.4493185417393, 350.40717386312963, 311.72498857082206, 301.64959714184215, 281.568473796849, 274.7218967984168, 273.5573011414812, 270.4648823552697, 269.78615617938885, 264.9599472306129, 259.508947631516, 248.54564391036374, 245.07380824870887, 238.8913059219404, 211.14767074684784, 1280.1092005979003, 1049.738879424353, 1049.0969229123762, 848.7771142781909, 765.5298320661954, 753.3311752331352, 649.6263920766484, 632.7354746501371, 529.5316959404863, 488.21739641654386, 475.9355145478542, 472.9898958947559, 435.5352358315944, 429.69918716280097, 424.6637872946213, 419.49114312505395, 407.86291148479347, 392.8321220907425, 378.83847978223986, 372.60584299815247, 372.2635878824727, 362.76549503968414, 356.2728869739783, 355.26417558429097, 351.2846327479835, 339.6919100759748, 326.13689621947555, 306.21605129637015, 303.8011562426526, 286.64633160069263, 1444.7886720584027, 741.9710434334906, 618.0143976145167, 740.1448271787424, 916.0465586697895, 1403.548299639447, 848.1532402448258, 502.5285088660991, 455.15646492218167, 634.745595987044, 656.2526222437675, 490.6464380150428, 724.2297361295535, 681.1317170277265, 685.9334422156758, 591.4701746502562, 547.1365575383056, 2696.574757359089, 1521.747151807064, 1015.3574835170479, 952.149609305578, 803.5767767739719, 707.6766179537882, 588.6643871238497, 583.006111896556, 577.589132248471, 539.8020115292184, 522.0588181691755, 516.2065161638429, 479.3746330048399, 475.98788165486417, 473.64358213208413, 467.67631208306244, 429.64252811263765, 424.21514599950643, 412.84795634507515, 366.7758131448184, 350.68927475815093, 298.19200741233516, 297.20131825120865, 271.87283462395, 264.13922601010734, 240.0731023211181, 237.96941181485346, 232.71163149183323, 219.5369303159287, 217.8491511671356, 1290.8903214428035, 993.9256592713928, 555.4785263536303, 517.3800390506191, 1353.3608689318087, 1047.5969696272368, 2087.0184339254743, 474.6925250974686, 327.106990523384, 347.3956670801976, 519.1638121468571, 735.6165572111398, 508.7744542067555, 475.65866444108644, 2029.9576303774384, 765.9072118403928, 644.2659695058885, 624.7288244898467, 608.2908983965618, 588.6096626194704, 557.7966447376659, 488.22841940780444, 432.42171821777055, 422.8561951488226, 391.34379236762965, 388.5758520134294, 388.05471348345156, 375.8512263673463, 353.9964331899803, 336.46936456809584, 318.578232104634, 268.78790258094193, 261.7717685085822, 232.2003600911955, 226.01869172441044, 215.27050073987638, 207.93644886852937, 205.1439452533514, 185.5239292075951, 185.078416059219, 180.1613274029962, 156.75796964494876, 150.1279789423396, 134.98821434005427, 501.5015902906747, 2166.7528631079813, 2559.0678121313963, 458.4854621349836, 455.43489011681305, 337.13812247262507, 806.5926051322582, 328.9599611607449, 372.52470306999015, 1345.5244598886802, 286.7492647306024, 476.08896121048235, 547.5394449056196, 332.33725538246523, 2242.2170973289653, 2124.2359485775078, 1486.0700763332422, 1350.6388879416118, 661.5667854160719, 554.2436977543674, 528.6220624617744, 504.4947630728496, 320.37842912460934, 273.7411796157881, 268.45393916776555, 257.2504538583881, 234.8019877584293, 211.41646258866442, 201.67030492473248, 200.0694314693771, 200.03040622708713, 181.79175981073212, 178.86261169612186, 178.56015473700333, 169.3195575289395, 161.15217714659246, 154.78217885833277, 134.94612638619867, 132.39211464535498, 118.54962098003013, 114.52910318309779, 103.35744769532093, 103.0072063440024, 102.07047588396006, 294.76529236038954, 230.11052814348534, 1064.690558146936, 254.90286570604513, 458.9629114838519, 233.96883736220016, 336.4195034114661, 256.5323395422193, 190.16211904474594, 171.89269662430857, 172.0033361323572, 1679.3037414067653, 1424.8041255613102, 489.57525907843376, 433.7612621361654, 392.04192300201794, 385.52518777373365, 377.8607915591856, 337.31747709865635, 308.93520880573647, 298.8522950164959, 274.8530752907264, 261.445304711817, 243.86400816614065, 243.48067942544705, 242.3350713500849, 206.65889441614047, 206.0258227798488, 202.29922389558348, 184.17223011535503, 179.94346408687926, 175.4396289456625, 173.03803741187272, 169.26366645300487, 162.29519656005652, 154.86805819113368, 149.87304316864396, 144.67809976202508, 142.37981363753258, 141.51419747146113, 139.57166195294872, 480.11582270923054, 317.8016471973696, 247.84914813558225, 333.71348727058427, 178.90012449132837, 164.801696030531, 164.40961099640003, 166.07416562038247, 763.6346060144432, 687.9077039817853, 614.2018344934344, 545.0375380574837, 525.8763210793068, 449.74110849325075, 426.6414261692392, 386.18405149368164, 358.6795116982262, 311.85767881956707, 300.74853923750317, 257.78914701781315, 248.96582172314544, 222.70758747760266, 218.43174647687746, 200.80524565094638, 200.25949470495866, 199.98649843002593, 197.34439895757387, 195.43824100367462, 190.39514662184015, 185.3274730721759, 185.17595522697607, 171.92794483596373, 168.29586542096695, 163.65542806179127, 152.00441930270884, 142.489575389144, 140.91296512449622, 139.52327572660133, 300.1888880150822, 399.65266233200526, 156.78912639075185, 256.2307214716974, 564.3543801467822, 653.9083137946076, 608.8642067518501, 577.3395863004063, 389.75893396004915, 386.198949507193, 355.0923277149252, 246.7521704997051, 204.15697485337319, 188.3925079109318, 182.49320022995406, 177.1982315327075, 159.5882216550482, 157.28383723778066, 153.27079399957876, 152.92745817733186, 149.7544291423722, 146.80716790949387, 132.0838964017751, 127.9276202144469, 124.07580503049867, 123.09936501527571, 122.59147170733957, 121.50479650879691, 119.03398095819018, 106.69684017114345, 94.89920207145137, 84.3843251585327, 78.27156317999334, 69.20116076936363, 66.26057861857565, 531.5759446421433, 183.7624145398338, 269.80248482253864, 107.79191982515195, 135.16608722441006, 134.12583535325223, 132.26980538298625, 1822.5699632152064, 518.9357009709216, 505.42914215562655, 361.7013908042366, 273.9242945382898, 258.45946644033046, 218.88087437279455, 182.8701193729613, 134.49074623515816, 124.3407344323536, 121.92232081978774, 109.3872501399653, 81.91798067969516, 81.7053540048436, 71.91513590680255, 71.7271455621235, 69.6119666810715, 51.93274607155038, 44.89437177035288, 23.14609474735944, 7.827713835861754, 7.354195715135893, 370.36619252456103, 1.2042127906353437, 39.690017541115154, 539.6021666620983, 176.0498353963753, 44.978283709795484, 60.015753716087, 24.187937680217495, 35.28378797440727, 19.57807975301646, 11.348650417603857, 2314.6986211786084, 575.3926808993276, 388.10517522065254, 257.9018553215879, 248.52247104106607, 109.79477352008927, 105.02255131428237, 99.78095819055284, 83.51022305356456, 81.15875556420599, 76.98244100373466, 59.28795344127282, 51.31527929841348, 33.04694432960155, 30.359876667403622, 29.06337064622689, 29.03416677294778, 22.61594443960291, 19.827339422487288, 18.44503949160511, 18.238391290856672, 14.518755478943275, 4.119284323525022, 87.59071784457907, 65.59542768410537, 65.77703132067022, 7.630665119103787, 0.04720163316106354, 0.04717038407620748, 0.047153267201188516, 921.5919105927329, 297.4538421623294, 280.08817078367485, 227.44591167575453, 162.24838544772842, 151.9544354136763, 151.5735830935733, 134.49823309660442, 124.06784025052586, 117.22216595271354, 110.22477539376733, 92.32431592142134, 81.51150336757857, 79.30749317783891, 78.91746534748559, 75.44697732552139, 71.07637403615882, 70.46230701693179, 65.5993037454456, 64.993874519534, 58.66454576862573, 55.664542903492794, 48.33916789584842, 48.320937003599205, 48.25403128795853, 44.15557855215811, 34.99241576997361, 27.036996685665102, 17.335367597138926, 16.21658458982261, 485.2230155093161, 272.24971277947856, 206.99648075618873, 155.510899678138, 153.59094370672986, 136.3779009610094, 121.6653113363134, 89.5333436984907, 85.53320364641012, 80.3615938711078, 214.86767228699486, 64.83003827514526, 61.18967073409261, 44.451372100828166, 36.70415329420719, 32.23731685503449, 32.013213509894896, 31.081447962840368, 28.1222744960732, 22.933290905117396, 21.09662697965198, 20.923230516919595, 17.54969238313007, 13.161858896364402, 12.002573066144627, 7.422161669093495, 200.13242095584062, 223.32959744469136, 117.42189485467516, 0.36923050737133667, 251.6578581292229, 221.65607338337455, 204.33428582502444, 190.76700018230517, 179.48507891451058, 159.3700584033515, 134.4902916346644, 120.02723507536717, 119.5957263399169, 118.9254703709466, 104.31742475371145, 98.91051459944416, 97.79258987740204, 70.44979141361762, 64.89744552331177, 63.70111773821684, 62.275002816947605, 60.85096649674082, 46.18639177571838, 38.1317109400134, 29.046059456285523, 28.61564088075416, 17.37371499318961, 12.317551077986158, 12.314783663912078, 12.314783663912078, 12.282601833526837, 7.798335701222077, 0.04543820281296812, 0.04543997356270964, 271.9032051975903, 192.73255733757802, 71.75233865514797, 55.10040673474015, 48.08083697282621, 40.23465584750425, 39.726495156448955, 37.51456125378488, 29.741304621821122, 25.593910341734762, 21.384182988887833, 19.39888657147963, 17.87637657047281, 14.96302657362494, 9.17155292655787, 8.609341098964116, 8.135738320487466, 8.135738320487466, 6.673857716163431, 4.705520735900179, 2.632306868562862, 20.219165065446212, 67.55166391869938, 0.035437740993834996, 0.03543214940880849, 0.035431957198073204, 0.03543191476193684, 0.03543074402382192, 0.035430621707899464, 0.03543047193330054, 0.03543349238771218, 0.03543131067105452, 0.035431365588407454, 125.02835436975374, 105.2317259049237, 47.08984005368116, 32.46896010158632, 27.558622326922713, 23.671363331685857, 23.1400588003604, 17.49318544494148, 15.335568920901038, 15.087681370655242, 14.501072637876877, 8.127847178976074, 0.026080008618736168, 0.026080008618736168, 0.02608007914368946, 0.026080074442025907, 0.026079847194954188, 0.026079806447203396, 0.02607999921540906, 0.026080342436848418, 0.026079908316580372, 0.026079811148866948, 0.02607985659828129, 0.02607968420395102, 0.026079579200131674, 0.026079740623913654, 0.02607988480826261, 0.026079425612455617, 0.026079869136050766, 0.026079350385838772, 0.026079886375483793, 0.026079590170679966, 0.026079833089963526, 0.0260799255560134, 0.026079952198773532, 0.026080257806904466], \"Total\": [46130.0, 17429.0, 10572.0, 7849.0, 2315.0, 4367.0, 4842.0, 5006.0, 13813.0, 6290.0, 7098.0, 3953.0, 2862.0, 2220.0, 2697.0, 1823.0, 8018.0, 2243.0, 2125.0, 9354.0, 8289.0, 7749.0, 9856.0, 5773.0, 2249.0, 3448.0, 8601.0, 2031.0, 5804.0, 9015.0, 3116.6611377983954, 2091.9756528613, 2070.372513655942, 2009.561965536338, 1983.4633506534674, 1616.6940938762561, 1595.0962613898264, 1494.5226395148725, 1405.8380366753258, 1224.2462233623046, 1111.837762347324, 1072.5442508182493, 1013.9438623817823, 976.6587695595205, 955.8542060480024, 954.5878687531883, 867.5073500846622, 823.5188441854042, 814.2025567421942, 801.3704824062405, 788.5242853607857, 747.963919884364, 711.2608971324273, 707.0853652579356, 674.7365482013598, 679.2810807414817, 643.3102870756352, 612.9918891367499, 592.0015903754173, 569.6809314155519, 1765.5720895990066, 1688.5095263178112, 1535.6831366673623, 8289.814503747535, 1747.2487994479163, 7749.031394605295, 4493.242178319626, 3835.7131080291524, 4134.78581995256, 3590.8590665227284, 4665.285516283543, 8601.229335450109, 4163.09802525896, 9015.445201835724, 8018.775359871357, 13813.207439098047, 6203.844753084781, 1337.8213708428875, 9856.003145668497, 4028.2529669080013, 2527.923380278313, 4259.445719628301, 4037.889644867528, 3176.596652127775, 3085.4659786960037, 6082.306749759625, 3366.113625823717, 4755.089917811963, 2729.229621365027, 4714.617827957275, 5978.15757330628, 17429.181720741122, 6511.57508651516, 6484.210318679281, 9354.019030074152, 2241.1201945117314, 1749.1066630013522, 1419.5194184772138, 813.0336604824953, 810.9637133928226, 747.2913205332721, 668.986741654782, 635.9428066702455, 587.7338420219866, 546.9098742970273, 535.1613484610797, 509.6838136772632, 505.0175924106641, 504.5267781361205, 469.6153140084839, 415.9485662913964, 412.69429485225487, 405.9996254540915, 400.3325795159629, 399.247746622946, 384.5110933182836, 359.1250684257565, 355.4608084476738, 353.46123026454393, 347.74619404034775, 345.7726821565073, 339.2469890674437, 329.8540030066448, 438.8257078327712, 268.32568959920116, 2637.8661824764595, 1526.22215113818, 7849.388370414134, 10572.6619050597, 869.0689826117281, 7098.972683622567, 1326.2516575597535, 1272.1145208853227, 2020.5580015926723, 1339.480206338909, 5773.18743385404, 1263.7664398441711, 1403.927151738124, 5804.721712994583, 4199.007342962104, 2930.196154236918, 1075.0641267974538, 2209.5487335374837, 898.9616672684213, 17429.181720741122, 9354.019030074152, 2233.416861428688, 6484.210318679281, 4745.698319558571, 4300.33984228494, 2229.8402745627873, 4842.025311121763, 2601.5363128590793, 1617.78097033528, 6511.57508651516, 4004.3796978545056, 4905.055424786167, 2246.8713004052147, 9856.003145668497, 6082.306749759625, 13813.207439098047, 4714.617827957275, 3756.416503037117, 4755.089917811963, 3448.524117958375, 2581.25497774973, 2505.273960089609, 2056.9645025708223, 1581.8230875046297, 1496.0114801330585, 1391.0614843595647, 1291.481929407609, 1281.0454169919292, 1235.8463841475962, 1191.2767415218857, 1156.1007764790018, 1143.8899389812525, 1117.6243495571023, 984.1812375100686, 952.2874990670657, 913.534994497702, 913.2587827759241, 798.745425430902, 774.2898943470083, 774.0208560777936, 742.8170435601826, 714.590417990523, 710.1737120926169, 676.2933945787103, 667.1560828805871, 638.657804402798, 628.4057907117456, 585.7294036339192, 2772.9030257411587, 1171.1888191398432, 1158.1142209754546, 1580.3353504556349, 2019.7351903165325, 1426.2374208979857, 1683.4246108985603, 2179.8859992472126, 2422.2680085677844, 1034.0187119223638, 2278.625440372419, 3205.913458492788, 5006.855528797744, 2962.7158491855953, 1911.4507683515128, 17429.181720741122, 4752.787703869873, 6290.7440665989425, 5978.15757330628, 3132.6369692113453, 2934.9075500236654, 2039.6094983624575, 1712.954321860527, 1399.0955904120376, 1192.8307920757927, 1022.5611335718592, 1014.951970070363, 945.4604449453813, 925.1572341535557, 915.0411734476969, 902.9524543457595, 802.4269164116663, 750.1989675779043, 738.5510488968558, 714.1651357176032, 662.0430413498625, 619.0023134460585, 602.1648692595339, 557.4501045890897, 542.8965875356316, 485.53501453112585, 478.49000393697895, 478.3004418537132, 452.50824654664393, 429.9263349284535, 419.5879394354106, 405.21647703633244, 364.2941956589749, 363.3479444611281, 349.83674455644814, 963.8919984553287, 682.549631078711, 461.3590343557205, 1538.0029478884226, 2104.3607199941207, 1761.7824970762836, 1375.8146116033952, 1813.1227385250656, 3449.021796118999, 780.2468557138706, 3339.8188479142277, 820.0128945352377, 1014.1486610062639, 1643.8795920343546, 1887.466512677963, 2303.7098531718407, 1394.9899562966596, 4745.698319558571, 1023.1262583569891, 1535.0325575969412, 2289.3287791493863, 9015.445201835724, 2447.5945571757215, 4367.120713077515, 1228.6616345874068, 927.42994289239, 859.1053529013486, 725.5865904617552, 680.556450482524, 654.8809489721074, 653.7833501108198, 599.4651161092806, 524.1433175867523, 521.0567553229307, 493.65267229768244, 475.7390734029281, 451.10346526435757, 433.0124689875704, 420.85976341986714, 391.6027002606964, 378.5069590252349, 353.66424712724387, 351.50965010194005, 351.4862838252822, 347.7588163945991, 339.7978849665866, 335.7141722390963, 329.71545969727447, 318.2413966823602, 314.6707654939842, 314.133906236666, 308.7882094584184, 287.4561683860269, 757.3868900443628, 963.828382913483, 1053.615754871958, 990.0053754434446, 1937.4118494788638, 655.387351863654, 491.78843970979773, 6290.7440665989425, 1080.0110264631098, 544.5450277495767, 2244.9954281788614, 958.7051474833332, 1288.5413026118033, 1467.3312542317806, 794.7780251005054, 1484.1709702695337, 2126.499570292558, 1152.618481257555, 4905.055424786167, 1259.5757145503758, 2447.5945571757215, 928.2821104497838, 2189.5370978822434, 3709.824060119514, 6511.57508651516, 46130.11943447952, 1363.8918612567415, 1069.5384018273112, 1039.179377994658, 879.5763045192191, 803.2293399130477, 763.1896676423743, 749.3095902082191, 648.4520948647696, 597.7488951834407, 585.3604689081124, 473.3694909158153, 463.68275364081745, 440.0448436383905, 406.93669937869254, 378.5849489092197, 351.5428041653768, 312.86061892618153, 302.78522747595196, 282.7041041927807, 275.85752718418223, 274.6929314675969, 271.6005128157748, 270.921786516148, 266.0955776650792, 260.6445779355071, 249.68127419468317, 246.20943866710581, 240.0269362593183, 212.28330113092227, 1281.299324438778, 1050.929003258649, 1050.2870467975113, 849.9672381124867, 766.7199559004912, 754.5212990674311, 650.8165159109442, 633.9255985037561, 530.7218197747821, 489.40752025788936, 477.125638394279, 474.18001972905193, 436.72535966589044, 430.8893110092607, 425.85391112891733, 420.68126695935, 409.0530353242038, 394.0222459316203, 380.02860362206883, 373.79596686446746, 373.45371172184804, 363.9556188739802, 357.46301080827436, 356.454299418587, 352.47475658227955, 340.8820339287341, 327.3270200537716, 307.4061751306662, 304.99128008964476, 287.83645546787875, 1466.0650279480888, 756.5597819791157, 633.2868460686944, 777.8769602812451, 994.9424240347073, 1644.5552473547007, 942.7241094089055, 538.0332838540464, 483.4093427817169, 759.5071131204575, 991.8908294330713, 607.2948139520136, 1379.5850684798356, 1535.0325575969412, 1714.255529688388, 1247.0829664113105, 1269.6658308954507, 2697.7676012699267, 1522.9399957179007, 1016.5503274278846, 953.3424532292024, 804.7696206848086, 708.8694618646249, 589.8572310346864, 584.1989558266296, 578.7819761593076, 540.9948554400551, 523.2516621195518, 517.3993600878094, 480.5674769228782, 477.18072556570104, 474.83642607115115, 468.8691559938993, 430.8353720234745, 425.4079899103433, 414.040800255912, 367.9686570621935, 351.8821186943911, 299.3848513557955, 298.3941621620455, 273.06567863660274, 265.3320699209442, 241.2659462441187, 239.1622557256903, 233.90447541204077, 220.72977422676556, 219.04199509024608, 1318.4450291638625, 1071.2979002205107, 672.5443839591222, 633.0319174987471, 2189.5370978822434, 1655.4305130514338, 5006.855528797744, 643.5230910604184, 389.103347488666, 470.1084118799997, 1803.1102304231601, 6290.7440665989425, 1897.916453404512, 2278.625440372419, 2031.144580232946, 767.0941617094455, 645.4529193820787, 625.9157743453544, 609.4778482637689, 589.7966124749781, 558.9835945931736, 489.4153692773248, 433.60866808032773, 424.0431450043303, 392.53074222867025, 389.7628018689371, 389.24166336253927, 377.038176222854, 355.183383045488, 337.65631442360353, 319.7651819601417, 269.9748524546786, 262.9587183691693, 233.38730994670323, 227.20564157991817, 216.49539536894787, 209.1233987240371, 206.33089513426242, 186.71087910109964, 186.26536592492027, 181.34827726870375, 157.94491950553578, 151.3149288048105, 136.175164195562, 507.3695228955414, 2249.6494788136456, 2862.4657848685583, 492.0438029121493, 497.8230471646851, 361.09925750273266, 956.1809995288563, 360.56492462824883, 423.8590757768322, 3953.129057232799, 345.65533919119537, 1009.3389283309806, 1937.4118494788638, 1782.4971418513703, 2243.4119851315063, 2125.4308363800487, 1487.2649641493274, 1351.833775744152, 662.7616732186121, 555.4385855569077, 529.8169502643146, 505.68965087538993, 321.5733169884108, 274.93606744493684, 269.6488269703059, 258.4453416609284, 235.99687556096964, 212.61135039120475, 202.86519273120518, 201.26431927191743, 201.22529402962746, 182.98664761327245, 180.05749965017003, 179.75504254378163, 170.51444534992712, 162.3470649491328, 155.97706666598737, 136.1410142148858, 133.58700245300957, 119.74450878257043, 115.7239909856381, 104.55233552466522, 104.20209418162355, 103.26536368650036, 476.9030420919667, 358.55768298551163, 4842.025311121763, 683.6565801959375, 3205.913458492788, 693.4602255063189, 3709.824060119514, 2209.5487335374837, 1363.2460992541764, 494.3676748636142, 1617.78097033528, 1680.5004707724895, 1426.0008549270344, 490.77198844415796, 434.9579915018896, 393.23865236774213, 386.72191713945784, 379.05752094859076, 338.51420646438055, 310.13193817146066, 300.04902438222007, 276.0498046564506, 262.6420340830741, 245.06073754927834, 244.6774088324834, 243.5318007158091, 207.8556237818647, 207.22255214557302, 203.4959532613077, 185.36895948107926, 181.14019350851177, 176.63635839862258, 174.23476677759695, 170.46039585866336, 163.49192595070124, 156.06478760530237, 151.06977253436818, 145.87482914316263, 143.5765430032568, 142.71092708049423, 140.76839131867294, 850.5827625585478, 541.046733014711, 1054.3926159074006, 4842.025311121763, 870.7543753471539, 409.74529510201614, 496.3854241467304, 1379.5850684798356, 764.8321683836152, 689.1052663509573, 615.3993968626064, 546.2351004266558, 527.0738834517479, 450.9386708624227, 427.8389885416803, 387.38161386612273, 359.8770740790942, 313.05524118873905, 301.9461016367862, 258.98670939925876, 250.1633841395284, 223.90514994380803, 219.62930884604947, 202.00280803270473, 201.4570570862944, 201.1840608253683, 198.54196135292005, 196.6358033761157, 191.59270899981414, 186.52503546229414, 186.3735176097793, 173.12550720513573, 169.49342779013895, 164.8529904462896, 153.20198167188084, 143.687137758316, 142.1105275100346, 140.72083809577333, 323.364077607014, 525.2251863622171, 163.15617560187275, 403.98335691898876, 1782.4971418513703, 655.1017653102964, 610.057658267539, 578.5330378230583, 390.952385475738, 387.39240102288187, 356.2857792306141, 247.94562203767126, 205.35042636906203, 189.58595944399622, 183.6866517456429, 178.39168304839635, 160.78167318098403, 158.47728891558245, 154.4642455152676, 154.1209096930207, 150.94788065806105, 148.00061942518272, 133.27734796667738, 129.12107179718393, 125.26925654618753, 124.29281653096457, 123.78492325398165, 122.69824806787766, 120.22743247387905, 107.89029170735992, 96.0926536025015, 85.57777668258542, 79.46501470698144, 70.39461229210195, 67.45403013426451, 576.2753221808523, 200.37293957041626, 367.0876714005518, 150.28474520776035, 367.5723713755078, 1247.622891936815, 8018.775359871357, 1823.7722014176343, 520.1379391733497, 506.63138035805457, 362.9036290376856, 275.12653275599695, 259.6617046427585, 220.0831125897375, 184.0723576130922, 135.69298448489764, 125.54297267738045, 123.12455902221579, 110.5894883694678, 83.12021893121673, 82.90759220727165, 73.1173741092306, 72.92938380368359, 70.81420490413701, 53.134984273978425, 46.096610187943625, 24.348332953719844, 9.029952042222153, 8.556433917563938, 662.5294782258298, 2.406450993063389, 101.22011205742464, 2220.704175678204, 921.190200285308, 324.31638166386296, 463.99006862532434, 423.8590757768322, 801.3213126995148, 597.0189398554515, 534.5692613583315, 2315.912001165037, 576.6060608857565, 389.31855520708143, 259.11523534058693, 249.73585103257426, 111.00815355561164, 106.23593130579056, 100.99433818121967, 84.72360303999342, 82.37213555063485, 78.19582107543397, 60.50133342770169, 52.52865928484235, 34.26032432110975, 31.573256658911824, 30.27675067687042, 30.24754677145413, 23.82932443114606, 21.04072071809974, 19.658419492581437, 19.451771361546385, 15.732135470486421, 5.332664780778231, 967.813120820465, 959.8708942360146, 1034.0187119223638, 185.41940240465604, 1.2607150983512532, 1.2606243363286984, 1.26057533687946, 922.804888179959, 298.66681975198543, 281.3011483643192, 228.65888925639888, 163.4613630385664, 153.16741299432064, 152.78656072243237, 135.7112106903785, 125.28081783628448, 118.43514353847216, 111.43775298476854, 93.53729350717997, 82.72448096275387, 80.52047075848326, 80.13044294029369, 76.6599549387421, 72.28935165696998, 71.67528459757614, 66.81228134799878, 66.20685210017835, 59.87752344737164, 56.87752048413714, 49.55214547976184, 49.533914584243554, 49.46700887292178, 45.36855616656131, 36.20539338956626, 28.249974278024872, 18.548345208508337, 17.429562170466962, 486.43945657263595, 273.4661538427984, 208.21292185047403, 156.72734073592497, 154.80738477288068, 137.59434202944354, 122.88175239410036, 90.74978476181056, 86.74964470931135, 81.57803492889477, 218.34307742315312, 66.04647933293222, 62.406111791879574, 45.66781316414803, 37.920594351994154, 33.45375791987094, 33.22965457473134, 32.29788908506367, 29.338715558974446, 24.149732104992033, 22.313068046504025, 22.139671574706565, 18.76613346926239, 14.378299960733147, 13.219014123931595, 8.638602733929938, 255.2465454406695, 477.75339762266987, 392.4357258765107, 1.5856715651583049, 252.87293667540493, 222.8711519295566, 205.54936437120648, 191.9820787284872, 180.70015750677882, 160.5851369583355, 135.70537018804788, 121.24231362548157, 120.81080488609894, 120.14054891712864, 105.53250330316257, 100.12559315917117, 99.00766842866341, 71.66486998520298, 66.11252410137713, 64.91619628439888, 63.49008136312965, 62.066045073772386, 47.4014703289499, 39.34678949324492, 30.2611380268371, 29.830719426936206, 18.588793564182396, 13.532629624168202, 13.529862210094121, 13.529862210094121, 13.49768037970888, 9.01341424740412, 1.2605331954561914, 1.26067956481034, 273.1282823585431, 193.95763449299795, 72.97741583778863, 56.3254838901601, 49.305914128246165, 41.45973300619328, 40.951572315801265, 38.73963844558726, 30.966381791678863, 26.8189876417582, 22.60926015506482, 20.623963754127136, 19.101453801512758, 16.188103746599378, 10.396630081977824, 9.834418254384069, 9.360815475907419, 9.360815475907419, 7.898934887215148, 5.930597927058038, 3.8573840239828145, 31.194660631405924, 478.0173522804826, 1.2606550303895823, 1.2605230270135084, 1.2605304509573938, 1.260541298753953, 1.2605263028465732, 1.2605237965441867, 1.26052580509471, 1.2607150983512532, 1.2605865559573879, 1.2606243363286984, 126.26278116192242, 106.4661526938233, 48.32426684651311, 33.703386921335444, 28.793049191932624, 24.905790127167236, 24.37448558926, 18.727612233841082, 16.569995773867504, 16.322108159554844, 15.735499431890753, 9.362273967875675, 1.2605107100223139, 1.2605119667019646, 1.2605171286374526, 1.2605209197636766, 1.2605103711011676, 1.260510148509075, 1.2605197910181862, 1.2605378547609771, 1.2605187562699307, 1.2605146338185738, 1.2605213445301728, 1.26051813303075, 1.260513829208034, 1.2605218343084839, 1.2605289157733273, 1.2605085704284382, 1.2605302716813327, 1.260508130470969, 1.2605429863314566, 1.2605240346686677, 1.2605489762392152, 1.2605709413930055, 1.260583368064061, 1.2607150983512532], \"Category\": [\"Default\", \"Default\", \"Default\", \"Default\", \"Default\", \"Default\", \"Default\", \"Default\", \"Default\", \"Default\", \"Default\", \"Default\", \"Default\", \"Default\", \"Default\", \"Default\", \"Default\", \"Default\", \"Default\", \"Default\", \"Default\", \"Default\", \"Default\", \"Default\", \"Default\", \"Default\", \"Default\", \"Default\", \"Default\", \"Default\", \"Topic1\", \"Topic1\", \"Topic1\", \"Topic1\", \"Topic1\", \"Topic1\", \"Topic1\", \"Topic1\", \"Topic1\", \"Topic1\", \"Topic1\", \"Topic1\", \"Topic1\", \"Topic1\", \"Topic1\", \"Topic1\", \"Topic1\", \"Topic1\", \"Topic1\", \"Topic1\", \"Topic1\", \"Topic1\", \"Topic1\", \"Topic1\", \"Topic1\", \"Topic1\", \"Topic1\", \"Topic1\", \"Topic1\", \"Topic1\", \"Topic1\", \"Topic1\", \"Topic1\", \"Topic1\", \"Topic1\", \"Topic1\", \"Topic1\", \"Topic1\", \"Topic1\", \"Topic1\", \"Topic1\", \"Topic1\", \"Topic1\", \"Topic1\", \"Topic1\", \"Topic1\", \"Topic1\", \"Topic1\", \"Topic1\", \"Topic1\", \"Topic1\", \"Topic1\", \"Topic1\", \"Topic1\", \"Topic1\", \"Topic1\", \"Topic1\", \"Topic1\", \"Topic1\", \"Topic1\", \"Topic1\", \"Topic1\", \"Topic1\", \"Topic1\", \"Topic1\", \"Topic2\", \"Topic2\", \"Topic2\", \"Topic2\", \"Topic2\", \"Topic2\", \"Topic2\", \"Topic2\", \"Topic2\", \"Topic2\", \"Topic2\", \"Topic2\", \"Topic2\", \"Topic2\", \"Topic2\", \"Topic2\", \"Topic2\", \"Topic2\", \"Topic2\", \"Topic2\", \"Topic2\", \"Topic2\", \"Topic2\", \"Topic2\", \"Topic2\", \"Topic2\", \"Topic2\", \"Topic2\", \"Topic2\", \"Topic2\", \"Topic2\", \"Topic2\", \"Topic2\", \"Topic2\", \"Topic2\", \"Topic2\", \"Topic2\", \"Topic2\", \"Topic2\", \"Topic2\", \"Topic2\", \"Topic2\", \"Topic2\", \"Topic2\", \"Topic2\", \"Topic2\", \"Topic2\", \"Topic2\", \"Topic2\", \"Topic2\", \"Topic2\", \"Topic2\", \"Topic2\", \"Topic2\", \"Topic2\", \"Topic2\", \"Topic2\", \"Topic2\", \"Topic2\", \"Topic2\", \"Topic2\", \"Topic2\", \"Topic2\", \"Topic2\", \"Topic2\", \"Topic2\", \"Topic2\", \"Topic2\", \"Topic2\", \"Topic3\", \"Topic3\", \"Topic3\", \"Topic3\", \"Topic3\", \"Topic3\", \"Topic3\", \"Topic3\", \"Topic3\", \"Topic3\", \"Topic3\", \"Topic3\", \"Topic3\", \"Topic3\", \"Topic3\", \"Topic3\", \"Topic3\", \"Topic3\", \"Topic3\", \"Topic3\", \"Topic3\", \"Topic3\", \"Topic3\", \"Topic3\", \"Topic3\", \"Topic3\", \"Topic3\", \"Topic3\", \"Topic3\", \"Topic3\", \"Topic3\", \"Topic3\", \"Topic3\", \"Topic3\", \"Topic3\", \"Topic3\", \"Topic3\", \"Topic3\", \"Topic3\", \"Topic3\", \"Topic3\", \"Topic3\", \"Topic3\", \"Topic3\", \"Topic3\", \"Topic3\", \"Topic3\", \"Topic3\", \"Topic3\", \"Topic4\", \"Topic4\", \"Topic4\", \"Topic4\", \"Topic4\", \"Topic4\", \"Topic4\", \"Topic4\", \"Topic4\", \"Topic4\", \"Topic4\", \"Topic4\", \"Topic4\", \"Topic4\", \"Topic4\", \"Topic4\", \"Topic4\", \"Topic4\", \"Topic4\", \"Topic4\", \"Topic4\", \"Topic4\", \"Topic4\", \"Topic4\", \"Topic4\", \"Topic4\", \"Topic4\", \"Topic4\", \"Topic4\", \"Topic4\", \"Topic4\", \"Topic4\", \"Topic4\", \"Topic4\", \"Topic4\", \"Topic4\", \"Topic4\", \"Topic4\", \"Topic4\", \"Topic4\", \"Topic4\", \"Topic4\", \"Topic4\", \"Topic4\", \"Topic4\", \"Topic4\", \"Topic4\", \"Topic4\", \"Topic4\", \"Topic4\", \"Topic4\", \"Topic4\", \"Topic4\", \"Topic5\", \"Topic5\", \"Topic5\", \"Topic5\", \"Topic5\", \"Topic5\", \"Topic5\", \"Topic5\", \"Topic5\", \"Topic5\", \"Topic5\", \"Topic5\", \"Topic5\", \"Topic5\", \"Topic5\", \"Topic5\", \"Topic5\", \"Topic5\", \"Topic5\", \"Topic5\", \"Topic5\", \"Topic5\", \"Topic5\", \"Topic5\", \"Topic5\", \"Topic5\", \"Topic5\", \"Topic5\", \"Topic5\", \"Topic5\", \"Topic5\", \"Topic5\", \"Topic5\", \"Topic5\", \"Topic5\", \"Topic5\", \"Topic5\", \"Topic5\", \"Topic5\", \"Topic5\", \"Topic5\", \"Topic5\", \"Topic5\", \"Topic5\", \"Topic5\", \"Topic5\", \"Topic5\", \"Topic5\", \"Topic5\", \"Topic5\", \"Topic5\", \"Topic5\", \"Topic5\", \"Topic5\", \"Topic5\", \"Topic6\", \"Topic6\", \"Topic6\", \"Topic6\", \"Topic6\", \"Topic6\", \"Topic6\", \"Topic6\", \"Topic6\", \"Topic6\", \"Topic6\", \"Topic6\", \"Topic6\", \"Topic6\", \"Topic6\", \"Topic6\", \"Topic6\", \"Topic6\", \"Topic6\", \"Topic6\", \"Topic6\", \"Topic6\", \"Topic6\", \"Topic6\", \"Topic6\", \"Topic6\", \"Topic6\", \"Topic6\", \"Topic6\", \"Topic6\", \"Topic7\", \"Topic7\", \"Topic7\", \"Topic7\", \"Topic7\", \"Topic7\", \"Topic7\", \"Topic7\", \"Topic7\", \"Topic7\", \"Topic7\", \"Topic7\", \"Topic7\", \"Topic7\", \"Topic7\", \"Topic7\", \"Topic7\", \"Topic7\", \"Topic7\", \"Topic7\", \"Topic7\", \"Topic7\", \"Topic7\", \"Topic7\", \"Topic7\", \"Topic7\", \"Topic7\", \"Topic7\", \"Topic7\", \"Topic7\", \"Topic7\", \"Topic7\", \"Topic7\", \"Topic7\", \"Topic7\", \"Topic7\", \"Topic7\", \"Topic7\", \"Topic7\", \"Topic7\", \"Topic7\", \"Topic7\", \"Topic7\", \"Topic7\", \"Topic7\", \"Topic7\", \"Topic7\", \"Topic8\", \"Topic8\", \"Topic8\", \"Topic8\", \"Topic8\", \"Topic8\", \"Topic8\", \"Topic8\", \"Topic8\", \"Topic8\", \"Topic8\", \"Topic8\", \"Topic8\", \"Topic8\", \"Topic8\", \"Topic8\", \"Topic8\", \"Topic8\", \"Topic8\", \"Topic8\", \"Topic8\", \"Topic8\", \"Topic8\", \"Topic8\", \"Topic8\", \"Topic8\", \"Topic8\", \"Topic8\", \"Topic8\", \"Topic8\", \"Topic8\", \"Topic8\", \"Topic8\", \"Topic8\", \"Topic8\", \"Topic8\", \"Topic8\", \"Topic8\", \"Topic8\", \"Topic8\", \"Topic8\", \"Topic8\", \"Topic8\", \"Topic8\", \"Topic9\", \"Topic9\", \"Topic9\", \"Topic9\", \"Topic9\", \"Topic9\", \"Topic9\", \"Topic9\", \"Topic9\", \"Topic9\", \"Topic9\", \"Topic9\", \"Topic9\", \"Topic9\", \"Topic9\", \"Topic9\", \"Topic9\", \"Topic9\", \"Topic9\", \"Topic9\", \"Topic9\", \"Topic9\", \"Topic9\", \"Topic9\", \"Topic9\", \"Topic9\", \"Topic9\", \"Topic9\", \"Topic9\", \"Topic9\", \"Topic9\", \"Topic9\", \"Topic9\", \"Topic9\", \"Topic9\", \"Topic9\", \"Topic9\", \"Topic9\", \"Topic9\", \"Topic9\", \"Topic9\", \"Topic9\", \"Topic9\", \"Topic9\", \"Topic10\", \"Topic10\", \"Topic10\", \"Topic10\", \"Topic10\", \"Topic10\", \"Topic10\", \"Topic10\", \"Topic10\", \"Topic10\", \"Topic10\", \"Topic10\", \"Topic10\", \"Topic10\", \"Topic10\", \"Topic10\", \"Topic10\", \"Topic10\", \"Topic10\", \"Topic10\", \"Topic10\", \"Topic10\", \"Topic10\", \"Topic10\", \"Topic10\", \"Topic10\", \"Topic10\", \"Topic10\", \"Topic10\", \"Topic10\", \"Topic10\", \"Topic10\", \"Topic10\", \"Topic10\", \"Topic10\", \"Topic10\", \"Topic10\", \"Topic10\", \"Topic10\", \"Topic10\", \"Topic10\", \"Topic11\", \"Topic11\", \"Topic11\", \"Topic11\", \"Topic11\", \"Topic11\", \"Topic11\", \"Topic11\", \"Topic11\", \"Topic11\", \"Topic11\", \"Topic11\", \"Topic11\", \"Topic11\", \"Topic11\", \"Topic11\", \"Topic11\", \"Topic11\", \"Topic11\", \"Topic11\", \"Topic11\", \"Topic11\", \"Topic11\", \"Topic11\", \"Topic11\", \"Topic11\", \"Topic11\", \"Topic11\", \"Topic11\", \"Topic11\", \"Topic11\", \"Topic11\", \"Topic11\", \"Topic11\", \"Topic11\", \"Topic11\", \"Topic11\", \"Topic11\", \"Topic12\", \"Topic12\", \"Topic12\", \"Topic12\", \"Topic12\", \"Topic12\", \"Topic12\", \"Topic12\", \"Topic12\", \"Topic12\", \"Topic12\", \"Topic12\", \"Topic12\", \"Topic12\", \"Topic12\", \"Topic12\", \"Topic12\", \"Topic12\", \"Topic12\", \"Topic12\", \"Topic12\", \"Topic12\", \"Topic12\", \"Topic12\", \"Topic12\", \"Topic12\", \"Topic12\", \"Topic12\", \"Topic12\", \"Topic12\", \"Topic12\", \"Topic12\", \"Topic12\", \"Topic12\", \"Topic12\", \"Topic13\", \"Topic13\", \"Topic13\", \"Topic13\", \"Topic13\", \"Topic13\", \"Topic13\", \"Topic13\", \"Topic13\", \"Topic13\", \"Topic13\", \"Topic13\", \"Topic13\", \"Topic13\", \"Topic13\", \"Topic13\", \"Topic13\", \"Topic13\", \"Topic13\", \"Topic13\", \"Topic13\", \"Topic13\", \"Topic13\", \"Topic13\", \"Topic13\", \"Topic13\", \"Topic13\", \"Topic13\", \"Topic13\", \"Topic13\", \"Topic13\", \"Topic13\", \"Topic13\", \"Topic13\", \"Topic13\", \"Topic13\", \"Topic13\", \"Topic14\", \"Topic14\", \"Topic14\", \"Topic14\", \"Topic14\", \"Topic14\", \"Topic14\", \"Topic14\", \"Topic14\", \"Topic14\", \"Topic14\", \"Topic14\", \"Topic14\", \"Topic14\", \"Topic14\", \"Topic14\", \"Topic14\", \"Topic14\", \"Topic14\", \"Topic14\", \"Topic14\", \"Topic14\", \"Topic14\", \"Topic14\", \"Topic14\", \"Topic14\", \"Topic14\", \"Topic14\", \"Topic14\", \"Topic14\", \"Topic14\", \"Topic14\", \"Topic14\", \"Topic15\", \"Topic15\", \"Topic15\", \"Topic15\", \"Topic15\", \"Topic15\", \"Topic15\", \"Topic15\", \"Topic15\", \"Topic15\", \"Topic15\", \"Topic15\", \"Topic15\", \"Topic15\", \"Topic15\", \"Topic15\", \"Topic15\", \"Topic15\", \"Topic15\", \"Topic15\", \"Topic15\", \"Topic15\", \"Topic15\", \"Topic15\", \"Topic15\", \"Topic15\", \"Topic15\", \"Topic15\", \"Topic15\", \"Topic15\", \"Topic16\", \"Topic16\", \"Topic16\", \"Topic16\", \"Topic16\", \"Topic16\", \"Topic16\", \"Topic16\", \"Topic16\", \"Topic16\", \"Topic16\", \"Topic16\", \"Topic16\", \"Topic16\", \"Topic16\", \"Topic16\", \"Topic16\", \"Topic16\", \"Topic16\", \"Topic16\", \"Topic16\", \"Topic16\", \"Topic16\", \"Topic16\", \"Topic16\", \"Topic16\", \"Topic16\", \"Topic16\", \"Topic16\", \"Topic16\", \"Topic17\", \"Topic17\", \"Topic17\", \"Topic17\", \"Topic17\", \"Topic17\", \"Topic17\", \"Topic17\", \"Topic17\", \"Topic17\", \"Topic17\", \"Topic17\", \"Topic17\", \"Topic17\", \"Topic17\", \"Topic17\", \"Topic17\", \"Topic17\", \"Topic17\", \"Topic17\", \"Topic17\", \"Topic17\", \"Topic17\", \"Topic17\", \"Topic17\", \"Topic17\", \"Topic17\", \"Topic17\", \"Topic17\", \"Topic17\", \"Topic18\", \"Topic18\", \"Topic18\", \"Topic18\", \"Topic18\", \"Topic18\", \"Topic18\", \"Topic18\", \"Topic18\", \"Topic18\", \"Topic18\", \"Topic18\", \"Topic18\", \"Topic18\", \"Topic18\", \"Topic18\", \"Topic18\", \"Topic18\", \"Topic18\", \"Topic18\", \"Topic18\", \"Topic18\", \"Topic18\", \"Topic18\", \"Topic18\", \"Topic18\", \"Topic18\", \"Topic18\", \"Topic18\", \"Topic18\", \"Topic19\", \"Topic19\", \"Topic19\", \"Topic19\", \"Topic19\", \"Topic19\", \"Topic19\", \"Topic19\", \"Topic19\", \"Topic19\", \"Topic19\", \"Topic19\", \"Topic19\", \"Topic19\", \"Topic19\", \"Topic19\", \"Topic19\", \"Topic19\", \"Topic19\", \"Topic19\", \"Topic19\", \"Topic19\", \"Topic19\", \"Topic19\", \"Topic19\", \"Topic19\", \"Topic19\", \"Topic19\", \"Topic19\", \"Topic19\", \"Topic19\", \"Topic19\", \"Topic19\", \"Topic20\", \"Topic20\", \"Topic20\", \"Topic20\", \"Topic20\", \"Topic20\", \"Topic20\", \"Topic20\", \"Topic20\", \"Topic20\", \"Topic20\", \"Topic20\", \"Topic20\", \"Topic20\", \"Topic20\", \"Topic20\", \"Topic20\", \"Topic20\", \"Topic20\", \"Topic20\", \"Topic20\", \"Topic20\", \"Topic20\", \"Topic20\", \"Topic20\", \"Topic20\", \"Topic20\", \"Topic20\", \"Topic20\", \"Topic20\", \"Topic20\", \"Topic20\", \"Topic20\", \"Topic20\", \"Topic20\", \"Topic20\"], \"logprob\": [30.0, 29.0, 28.0, 27.0, 26.0, 25.0, 24.0, 23.0, 22.0, 21.0, 20.0, 19.0, 18.0, 17.0, 16.0, 15.0, 14.0, 13.0, 12.0, 11.0, 10.0, 9.0, 8.0, 7.0, 6.0, 5.0, 4.0, 3.0, 2.0, 1.0, -4.7707, -5.1695, -5.1799, -5.2097, -5.2228, -5.4274, -5.4409, -5.506, -5.5673, -5.7057, -5.8021, -5.8381, -5.8944, -5.9319, -5.9534, -5.9548, -6.0505, -6.1027, -6.114, -6.13, -6.1461, -6.199, -6.2494, -6.2553, -6.3022, -6.2956, -6.35, -6.3984, -6.4333, -6.4718, -5.3439, -5.3937, -5.4891, -3.8396, -5.3665, -3.9087, -4.4472, -4.6019, -4.539, -4.6805, -4.4369, -3.8658, -4.5631, -3.878, -3.9877, -3.4893, -4.2287, -5.6519, -3.9283, -4.7033, -5.1123, -4.7221, -4.7662, -4.97, -4.9955, -4.5489, -5.0004, -4.8308, -5.1309, -4.9006, -4.8226, -4.5626, -4.9238, -5.0112, -5.0271, -4.5733, -4.8213, -5.0303, -5.5882, -5.5907, -5.6726, -5.7835, -5.8343, -5.9132, -5.9854, -6.0071, -6.056, -6.0653, -6.0662, -6.1381, -6.2598, -6.2677, -6.2841, -6.2982, -6.3009, -6.3386, -6.4071, -6.4174, -6.4231, -6.4394, -6.4452, -6.4643, -6.4924, -6.2073, -6.6997, -4.4167, -4.9627, -3.3909, -3.1166, -5.545, -3.5175, -5.1449, -5.1849, -4.7504, -5.16, -3.7932, -5.2326, -5.1419, -3.8616, -4.1794, -4.5197, -5.4068, -4.8001, -5.572, -3.0617, -3.6039, -4.8331, -3.9851, -4.2614, -4.3699, -4.8771, -4.3274, -4.7829, -5.1138, -4.2433, -4.6208, -4.5639, -4.9483, -4.416, -4.6153, -4.4426, -4.8203, -4.8794, -4.8941, -3.732, -4.0218, -4.0517, -4.249, -4.5118, -4.5676, -4.6404, -4.7147, -4.7229, -4.7588, -4.7956, -4.8256, -4.8362, -4.8595, -4.9868, -5.0197, -5.0613, -5.0616, -5.1958, -5.227, -5.2273, -5.2685, -5.3073, -5.3135, -5.3625, -5.3761, -5.4199, -5.4361, -5.5065, -3.9518, -4.8331, -4.8549, -4.5656, -4.3361, -4.6693, -4.5269, -4.3007, -4.261, -5.0031, -4.4315, -4.3109, -4.0558, -4.4572, -4.7112, -3.7363, -4.3795, -4.3112, -4.3542, -4.5997, -3.7441, -4.1082, -4.2829, -4.4854, -4.6451, -4.7993, -4.8067, -4.8778, -4.8995, -4.9105, -4.9238, -5.042, -5.1094, -5.1251, -5.1587, -5.2346, -5.302, -5.3296, -5.4069, -5.4334, -5.5454, -5.56, -5.5604, -5.616, -5.6673, -5.6917, -5.7267, -5.8335, -5.8361, -5.8741, -4.8683, -5.2163, -5.6023, -4.4556, -4.2495, -4.4126, -4.6798, -4.4546, -3.9565, -5.202, -4.148, -5.1773, -5.0489, -4.7972, -4.7387, -4.6999, -4.9469, -4.523, -5.0944, -4.9866, -4.929, -4.7621, -5.0288, -3.0293, -4.2981, -4.5797, -4.6563, -4.8255, -4.8897, -4.9282, -4.9299, -5.0168, -5.1513, -5.1573, -5.2114, -5.2485, -5.3018, -5.3428, -5.3714, -5.4436, -5.4777, -5.5459, -5.552, -5.552, -5.5627, -5.586, -5.5981, -5.6162, -5.6518, -5.6631, -5.6648, -5.682, -5.7539, -4.8109, -4.6308, -4.5969, -4.7025, -4.1747, -5.0714, -5.302, -3.3537, -4.6995, -5.2239, -4.2977, -4.9309, -4.7561, -4.7079, -5.0519, -4.7313, -4.5792, -4.8778, -4.2892, -4.9035, -4.7106, -5.0315, -4.9287, -4.9277, -4.9927, -0.4766, -3.9985, -4.2419, -4.2707, -4.4376, -4.5286, -4.5798, -4.5982, -4.743, -4.8245, -4.8455, -5.0583, -5.079, -5.1315, -5.2099, -5.2824, -5.3567, -5.4737, -5.5065, -5.5754, -5.6, -5.6043, -5.6157, -5.6182, -5.6362, -5.657, -5.7002, -5.7142, -5.7398, -5.8632, -3.868, -4.0664, -4.067, -4.2789, -4.3821, -4.3982, -4.5463, -4.5726, -4.7507, -4.8319, -4.8574, -4.8636, -4.9461, -4.9596, -4.9714, -4.9837, -5.0118, -5.0493, -5.0856, -5.1022, -5.1031, -5.1289, -5.147, -5.1498, -5.1611, -5.1947, -5.2354, -5.2984, -5.3063, -5.3645, -3.747, -4.4134, -4.5962, -4.4159, -4.2026, -3.7759, -4.2796, -4.803, -4.9021, -4.5695, -4.5362, -4.827, -4.4376, -4.4989, -4.4919, -4.6401, -4.718, -2.8075, -3.3796, -3.7842, -3.8485, -4.0182, -4.1453, -4.3294, -4.339, -4.3484, -4.416, -4.4495, -4.4607, -4.5348, -4.5418, -4.5468, -4.5595, -4.6443, -4.657, -4.6842, -4.8025, -4.8473, -5.0095, -5.0128, -5.1019, -5.1308, -5.2263, -5.2351, -5.2574, -5.3157, -5.3234, -3.5442, -3.8056, -4.3874, -4.4585, -3.4969, -3.753, -3.0638, -4.5446, -4.917, -4.8568, -4.455, -4.1065, -4.4752, -4.5425, -2.8971, -3.8718, -4.0447, -4.0755, -4.1022, -4.1351, -4.1888, -4.3221, -4.4434, -4.4658, -4.5432, -4.5503, -4.5517, -4.5836, -4.6435, -4.6943, -4.749, -4.9189, -4.9454, -5.0652, -5.0922, -5.1409, -5.1756, -5.1891, -5.2897, -5.2921, -5.319, -5.4581, -5.5013, -5.6076, -4.2952, -2.8319, -2.6654, -4.3849, -4.3916, -4.6923, -3.82, -4.7169, -4.5925, -3.3083, -4.8542, -4.3472, -4.2074, -4.7067, -2.3844, -2.4385, -2.7957, -2.8913, -3.605, -3.782, -3.8294, -3.8761, -4.3301, -4.4874, -4.5069, -4.5496, -4.6409, -4.7458, -4.793, -4.801, -4.8012, -4.8968, -4.913, -4.9147, -4.9678, -5.0173, -5.0576, -5.1948, -5.2139, -5.3243, -5.3588, -5.4614, -5.4648, -5.474, -4.4134, -4.6611, -3.1292, -4.5587, -3.9707, -4.6444, -4.2813, -4.5524, -4.8518, -4.9528, -4.9521, -2.5948, -2.7592, -3.8274, -3.9485, -4.0496, -4.0663, -4.0864, -4.1999, -4.2878, -4.321, -4.4047, -4.4547, -4.5243, -4.5259, -4.5306, -4.6899, -4.6929, -4.7112, -4.8051, -4.8283, -4.8537, -4.8674, -4.8895, -4.9315, -4.9784, -5.0112, -5.0464, -5.0625, -5.0686, -5.0824, -3.8469, -4.2595, -4.5081, -4.2107, -4.8341, -4.9162, -4.9186, -4.9085, -3.1201, -3.2245, -3.3378, -3.4573, -3.4931, -3.6495, -3.7022, -3.8018, -3.8757, -4.0156, -4.0519, -4.206, -4.2408, -4.3523, -4.3717, -4.4558, -4.4585, -4.4599, -4.4732, -4.4829, -4.5091, -4.536, -4.5368, -4.6111, -4.6324, -4.6604, -4.7342, -4.7989, -4.81, -4.8199, -4.0537, -3.7676, -4.7033, -4.2121, -3.4225, -3.0971, -3.1685, -3.2216, -3.6145, -3.6237, -3.7077, -4.0717, -4.2612, -4.3415, -4.3734, -4.4028, -4.5075, -4.522, -4.5479, -4.5501, -4.5711, -4.591, -4.6966, -4.7286, -4.7592, -4.7671, -4.7712, -4.7801, -4.8007, -4.9101, -5.0273, -5.1447, -5.2199, -5.3431, -5.3865, -3.3042, -4.3664, -3.9824, -4.8999, -4.6736, -4.6813, -4.6952, -1.6318, -2.8881, -2.9144, -3.249, -3.527, -3.5851, -3.7513, -3.9311, -4.2384, -4.3168, -4.3365, -4.445, -4.7341, -4.7367, -4.8644, -4.867, -4.8969, -5.1899, -5.3355, -5.998, -7.0822, -7.1446, -3.2254, -8.954, -5.4588, -2.849, -3.9691, -5.3337, -5.0452, -5.954, -5.5764, -6.1654, -6.7108, -1.1332, -2.5252, -2.919, -3.3277, -3.3647, -4.1817, -4.2261, -4.2773, -4.4553, -4.4839, -4.5367, -4.7979, -4.9423, -5.3823, -5.4672, -5.5108, -5.5118, -5.7616, -5.8932, -5.9655, -5.9767, -6.2048, -7.4646, -4.4076, -4.6968, -4.694, -6.8481, -11.9336, -11.9343, -11.9346, -1.8968, -3.0277, -3.0878, -3.296, -3.6338, -3.6994, -3.7019, -3.8214, -3.9021, -3.9589, -4.0204, -4.1976, -4.3222, -4.3496, -4.3545, -4.3995, -4.4592, -4.4679, -4.5394, -4.5486, -4.6511, -4.7036, -4.8447, -4.8451, -4.8465, -4.9352, -5.1678, -5.4257, -5.8702, -5.9369, -2.3585, -2.9364, -3.2104, -3.4964, -3.5088, -3.6277, -3.7418, -4.0485, -4.0942, -4.1566, -3.1731, -4.3714, -4.4291, -4.7487, -4.9402, -5.07, -5.077, -5.1065, -5.2066, -5.4105, -5.494, -5.5023, -5.6781, -5.9658, -6.058, -6.5387, -3.2441, -3.1345, -3.7773, -9.5395, -2.9376, -3.0645, -3.1459, -3.2146, -3.2755, -3.3944, -3.5641, -3.6779, -3.6815, -3.6871, -3.8182, -3.8714, -3.8828, -4.2107, -4.2928, -4.3114, -4.3341, -4.3572, -4.6329, -4.8246, -5.0967, -5.1117, -5.6107, -5.9546, -5.9548, -5.9548, -5.9574, -6.4117, -11.557, -11.557, -2.312, -2.6561, -3.6442, -3.9083, -4.0445, -4.2227, -4.2354, -4.2927, -4.5249, -4.6751, -4.8548, -4.9522, -5.0339, -5.2118, -5.7013, -5.7646, -5.8211, -5.8211, -6.0192, -6.3687, -6.9495, -4.9108, -3.7045, -11.2574, -11.2575, -11.2575, -11.2576, -11.2576, -11.2576, -11.2576, -11.2575, -11.2576, -11.2576, -2.6234, -2.7958, -3.5999, -3.9716, -4.1356, -4.2877, -4.3104, -4.5901, -4.7218, -4.738, -4.7777, -5.3566, -11.0985, -11.0985, -11.0985, -11.0985, -11.0985, -11.0985, -11.0985, -11.0985, -11.0985, -11.0985, -11.0985, -11.0985, -11.0985, -11.0985, -11.0985, -11.0985, -11.0985, -11.0985, -11.0985, -11.0985, -11.0985, -11.0985, -11.0985, -11.0985], \"loglift\": [30.0, 29.0, 28.0, 27.0, 26.0, 25.0, 24.0, 23.0, 22.0, 21.0, 20.0, 19.0, 18.0, 17.0, 16.0, 15.0, 14.0, 13.0, 12.0, 11.0, 10.0, 9.0, 8.0, 7.0, 6.0, 5.0, 4.0, 3.0, 2.0, 1.0, 1.2436, 1.2435, 1.2435, 1.2434, 1.2434, 1.2433, 1.2433, 1.2432, 1.2432, 1.2431, 1.243, 1.2429, 1.2429, 1.2428, 1.2428, 1.2428, 1.2427, 1.2426, 1.2426, 1.2425, 1.2425, 1.2424, 1.2424, 1.2423, 1.2423, 1.2422, 1.2422, 1.2421, 1.242, 1.2419, 1.2387, 1.2335, 1.233, 1.1964, 1.2265, 1.1948, 1.2013, 1.2048, 1.1926, 1.1922, 1.174, 1.1333, 1.1617, 1.0741, 1.0816, 1.0362, 1.0972, 1.2081, 0.9346, 1.0544, 1.1114, 0.9798, 0.9892, 1.0253, 1.0288, 0.7968, 0.9369, 0.7611, 1.0162, 0.6998, 0.5404, -0.2696, 0.3536, 0.2705, -0.1119, 1.7708, 1.7706, 1.7705, 1.7699, 1.7699, 1.7697, 1.7696, 1.7695, 1.7693, 1.7692, 1.7691, 1.769, 1.769, 1.769, 1.7688, 1.7685, 1.7684, 1.7684, 1.7684, 1.7683, 1.7682, 1.768, 1.768, 1.768, 1.7679, 1.7679, 1.7678, 1.7677, 1.7674, 1.7669, 1.7644, 1.7656, 1.6998, 1.6762, 1.7464, 1.6736, 1.7238, 1.7255, 1.6972, 1.6988, 1.6047, 1.6844, 1.6699, 1.5307, 1.5368, 1.5563, 1.6719, 1.5582, 1.6855, 1.2312, 1.3114, 1.5145, 1.2966, 1.3324, 1.3225, 1.4721, 1.2463, 1.4121, 1.5562, 1.0342, 1.1429, 0.9969, 1.3932, 0.447, 0.7303, 0.0829, 0.7801, 0.9482, 0.6977, 2.1811, 2.181, 2.181, 2.1809, 2.1807, 2.1807, 2.1806, 2.1805, 2.1805, 2.1805, 2.1805, 2.1804, 2.1804, 2.1804, 2.1802, 2.1802, 2.1802, 2.1802, 2.18, 2.1799, 2.1799, 2.1799, 2.1798, 2.1798, 2.1797, 2.1797, 2.1796, 2.1796, 2.1794, 2.1794, 2.1599, 2.1494, 2.1278, 2.112, 2.1268, 2.1033, 2.0711, 2.0054, 2.1146, 1.896, 1.6752, 1.4845, 1.6078, 1.792, 0.5566, 1.2128, 1.0008, 1.0087, 1.4095, 2.3302, 2.3301, 2.33, 2.3298, 2.3297, 2.3295, 2.3295, 2.3294, 2.3294, 2.3293, 2.3293, 2.3292, 2.3291, 2.329, 2.329, 2.3288, 2.3287, 2.3287, 2.3285, 2.3285, 2.3282, 2.3282, 2.3282, 2.328, 2.3279, 2.3278, 2.3277, 2.3274, 2.3274, 2.3272, 2.3196, 2.3167, 2.3223, 2.265, 2.1576, 2.1721, 2.1523, 2.1014, 1.9565, 2.1972, 1.7971, 2.1722, 2.0881, 1.8568, 1.7771, 1.6167, 1.8713, 1.0708, 2.0338, 1.7359, 1.3938, 0.19, 1.2272, 2.6477, 2.647, 2.6467, 2.6466, 2.6463, 2.6462, 2.6462, 2.6462, 2.646, 2.6457, 2.6457, 2.6456, 2.6455, 2.6453, 2.6452, 2.6452, 2.6449, 2.6448, 2.6446, 2.6446, 2.6446, 2.6446, 2.6445, 2.6444, 2.6444, 2.6442, 2.6442, 2.6442, 2.6441, 2.6438, 2.618, 2.5571, 2.5019, 2.4586, 2.315, 2.5022, 2.5588, 1.9583, 2.3745, 2.535, 2.0446, 2.2624, 2.1415, 2.0597, 2.3289, 2.0249, 1.8174, 2.1313, 1.2716, 2.0168, 1.5454, 2.1939, 1.4386, 0.9124, 0.2848, 2.843, 2.8422, 2.842, 2.8419, 2.8417, 2.8416, 2.8415, 2.8415, 2.8413, 2.8411, 2.8411, 2.8406, 2.8406, 2.8404, 2.8402, 2.84, 2.8398, 2.8394, 2.8393, 2.839, 2.8389, 2.8389, 2.8388, 2.8388, 2.8387, 2.8387, 2.8385, 2.8384, 2.8383, 2.8377, 3.0352, 3.035, 3.035, 3.0347, 3.0346, 3.0345, 3.0343, 3.0342, 3.0339, 3.0337, 3.0336, 3.0336, 3.0334, 3.0334, 3.0333, 3.0333, 3.0332, 3.0331, 3.033, 3.0329, 3.0329, 3.0328, 3.0328, 3.0328, 3.0327, 3.0326, 3.0325, 3.0322, 3.0322, 3.032, 3.0215, 3.0166, 3.0117, 2.9864, 2.9535, 2.8777, 2.9304, 2.9679, 2.9759, 2.8567, 2.6231, 2.8228, 2.3917, 2.2236, 2.1202, 2.2902, 2.1943, 3.3511, 3.3508, 3.3504, 3.3503, 3.3501, 3.3499, 3.3496, 3.3495, 3.3495, 3.3494, 3.3493, 3.3493, 3.3491, 3.3491, 3.3491, 3.349, 3.3488, 3.3488, 3.3487, 3.3483, 3.3482, 3.3476, 3.3476, 3.3472, 3.3471, 3.3466, 3.3466, 3.3465, 3.3462, 3.3461, 3.3305, 3.2766, 3.1603, 3.1498, 2.8705, 2.894, 2.4765, 3.0473, 3.178, 3.0491, 2.1065, 1.2055, 2.0351, 1.785, 3.5454, 3.5444, 3.5441, 3.5441, 3.544, 3.544, 3.5439, 3.5436, 3.5432, 3.5432, 3.543, 3.5429, 3.5429, 3.5428, 3.5426, 3.5425, 3.5423, 3.5416, 3.5415, 3.5409, 3.5407, 3.5403, 3.5403, 3.5402, 3.5396, 3.5396, 3.5394, 3.5384, 3.5381, 3.5372, 3.5344, 3.5084, 3.4339, 3.4753, 3.457, 3.4773, 3.3759, 3.4542, 3.4169, 2.4683, 3.3591, 2.7945, 2.2823, 1.8664, 3.9587, 3.9586, 3.9584, 3.9583, 3.9574, 3.957, 3.9569, 3.9568, 3.9555, 3.9548, 3.9548, 3.9546, 3.9541, 3.9536, 3.9533, 3.9532, 3.9532, 3.9526, 3.9525, 3.9525, 3.9522, 3.9518, 3.9515, 3.9504, 3.9502, 3.9492, 3.9488, 3.9477, 3.9477, 3.9476, 3.4781, 3.5157, 2.4445, 2.9726, 2.0154, 2.8727, 1.5588, 1.8059, 1.9894, 2.9028, 1.7179, 4.0372, 4.037, 4.0354, 4.0351, 4.0348, 4.0348, 4.0347, 4.0343, 4.034, 4.0339, 4.0335, 4.0333, 4.033, 4.033, 4.0329, 4.0321, 4.0321, 4.032, 4.0314, 4.0312, 4.0311, 4.031, 4.0308, 4.0305, 4.0302, 4.0299, 4.0296, 4.0295, 4.0294, 4.0293, 3.466, 3.5058, 2.59, 1.3631, 2.4553, 3.1271, 2.9329, 1.9208, 4.2991, 4.2989, 4.2987, 4.2985, 4.2984, 4.298, 4.2979, 4.2976, 4.2973, 4.2968, 4.2967, 4.296, 4.2959, 4.2953, 4.2952, 4.2947, 4.2947, 4.2947, 4.2946, 4.2946, 4.2944, 4.2942, 4.2942, 4.2937, 4.2936, 4.2934, 4.2928, 4.2923, 4.2922, 4.2921, 4.2263, 4.0274, 4.2609, 3.8454, 3.1506, 4.4769, 4.4768, 4.4767, 4.4757, 4.4757, 4.4754, 4.4739, 4.4729, 4.4724, 4.4722, 4.472, 4.4713, 4.4712, 4.471, 4.471, 4.4708, 4.4707, 4.4698, 4.4695, 4.4692, 4.4691, 4.4691, 4.469, 4.4688, 4.4676, 4.4662, 4.4647, 4.4636, 4.4616, 4.4609, 4.398, 4.3922, 4.1708, 4.1464, 3.4783, 2.2485, 0.374, 4.9183, 4.9167, 4.9166, 4.9157, 4.9146, 4.9143, 4.9135, 4.9124, 4.9101, 4.9093, 4.9092, 4.908, 4.9044, 4.9044, 4.9024, 4.9023, 4.9018, 4.8961, 4.8925, 4.8683, 4.7761, 4.7676, 4.3374, 4.2266, 3.9828, 3.5042, 3.2641, 2.9434, 2.8737, 2.0554, 1.7961, 1.5014, 1.0666, 5.178, 5.1764, 5.1754, 5.1739, 5.1737, 5.1676, 5.1671, 5.1665, 5.1641, 5.1637, 5.1629, 5.1583, 5.1552, 5.1425, 5.1394, 5.1376, 5.1376, 5.1263, 5.1191, 5.1148, 5.1141, 5.0983, 4.9204, 2.7762, 2.4953, 2.4236, 1.9881, 1.8935, 1.8929, 1.8926, 5.3346, 5.3318, 5.3316, 5.3306, 5.3284, 5.3279, 5.3279, 5.3269, 5.3261, 5.3256, 5.3249, 5.3228, 5.3211, 5.3207, 5.3206, 5.3199, 5.319, 5.3188, 5.3176, 5.3174, 5.3154, 5.3143, 5.3111, 5.3111, 5.3111, 5.3088, 5.3018, 5.292, 5.2682, 5.2637, 5.5132, 5.5112, 5.5098, 5.5079, 5.5078, 5.5068, 5.5057, 5.5022, 5.5016, 5.5007, 5.4997, 5.4971, 5.496, 5.4887, 5.4831, 5.4787, 5.4784, 5.4773, 5.4734, 5.464, 5.4596, 5.4592, 5.4487, 5.4273, 5.4192, 5.3639, 5.2724, 4.7553, 4.3091, 4.0584, 5.5884, 5.5877, 5.5873, 5.5868, 5.5865, 5.5856, 5.5842, 5.5831, 5.5831, 5.583, 5.5816, 5.581, 5.5808, 5.5761, 5.5746, 5.5743, 5.5739, 5.5734, 5.5672, 5.5618, 5.5522, 5.5516, 5.5256, 5.4991, 5.4991, 5.4991, 5.4989, 5.4484, 2.2703, 2.2702, 6.1369, 6.1351, 6.1245, 6.1194, 6.1163, 6.1114, 6.111, 6.1093, 6.101, 6.0947, 6.0857, 6.0802, 6.0751, 6.0627, 6.016, 6.0084, 6.0011, 6.0011, 5.9729, 5.91, 5.7593, 5.7078, 4.1847, 2.5698, 2.5697, 2.5697, 2.5697, 2.5697, 2.5697, 2.5697, 2.5696, 2.5697, 2.5696, 6.5971, 6.5952, 6.581, 6.5696, 6.5631, 6.5561, 6.5549, 6.5387, 6.5295, 6.5283, 6.5252, 6.4655, 2.7288, 2.7288, 2.7288, 2.7288, 2.7288, 2.7288, 2.7288, 2.7288, 2.7288, 2.7288, 2.7288, 2.7288, 2.7288, 2.7288, 2.7288, 2.7288, 2.7288, 2.7288, 2.7288, 2.7288, 2.7288, 2.7287, 2.7287, 2.7286]}, \"token.table\": {\"Topic\": [16, 4, 3, 8, 7, 12, 5, 1, 2, 3, 4, 3, 2, 14, 13, 9, 2, 1, 12, 18, 14, 1, 2, 3, 4, 5, 11, 2, 12, 1, 5, 2, 16, 3, 14, 3, 5, 7, 1, 2, 3, 5, 7, 4, 9, 13, 13, 2, 1, 2, 11, 4, 17, 7, 8, 13, 15, 4, 3, 8, 20, 2, 9, 14, 9, 6, 1, 2, 9, 12, 15, 2, 20, 20, 9, 1, 4, 19, 4, 1, 4, 12, 4, 1, 2, 7, 9, 3, 5, 8, 15, 3, 7, 5, 8, 2, 8, 7, 10, 3, 7, 3, 4, 6, 6, 6, 10, 18, 6, 2, 3, 5, 8, 7, 12, 2, 12, 17, 10, 17, 2, 3, 1, 1, 5, 9, 7, 11, 1, 11, 14, 18, 4, 7, 13, 8, 4, 4, 4, 5, 9, 7, 4, 14, 17, 8, 6, 18, 2, 4, 5, 10, 13, 19, 7, 16, 11, 3, 16, 1, 2, 4, 8, 19, 11, 12, 17, 17, 3, 8, 7, 4, 11, 11, 9, 19, 1, 4, 20, 8, 14, 16, 19, 3, 16, 17, 9, 1, 7, 9, 1, 2, 1, 9, 10, 8, 13, 5, 9, 9, 6, 1, 3, 5, 12, 12, 10, 10, 1, 2, 9, 5, 8, 11, 2, 4, 7, 7, 2, 7, 19, 9, 10, 11, 10, 12, 2, 5, 8, 11, 3, 8, 11, 12, 16, 7, 1, 3, 8, 16, 15, 7, 20, 4, 15, 3, 14, 6, 8, 6, 13, 10, 1, 2, 14, 4, 13, 14, 18, 18, 2, 9, 15, 2, 2, 1, 6, 4, 11, 2, 1, 18, 7, 3, 19, 8, 3, 14, 12, 3, 10, 5, 13, 10, 1, 2, 4, 4, 4, 17, 16, 18, 13, 4, 1, 4, 17, 6, 12, 8, 1, 4, 4, 4, 10, 5, 1, 2, 5, 15, 19, 16, 7, 3, 4, 5, 10, 1, 3, 4, 5, 5, 7, 11, 1, 2, 4, 5, 10, 11, 13, 5, 14, 11, 18, 17, 1, 3, 4, 5, 14, 7, 1, 4, 7, 9, 13, 13, 3, 16, 18, 11, 5, 8, 18, 4, 10, 15, 10, 13, 1, 2, 3, 16, 1, 2, 4, 5, 10, 5, 1, 2, 1, 4, 1, 2, 9, 13, 3, 15, 4, 13, 7, 12, 11, 9, 2, 4, 15, 6, 1, 12, 8, 1, 2, 3, 7, 14, 13, 2, 5, 8, 11, 2, 10, 10, 5, 6, 1, 2, 3, 10, 12, 7, 10, 4, 19, 10, 6, 1, 5, 3, 7, 15, 6, 14, 3, 4, 11, 1, 2, 9, 11, 3, 9, 14, 3, 3, 4, 8, 13, 19, 5, 3, 2, 18, 15, 8, 12, 1, 10, 15, 16, 7, 1, 4, 8, 19, 19, 2, 8, 3, 10, 1, 2, 7, 13, 1, 2, 3, 17, 13, 14, 18, 7, 13, 2, 4, 10, 13, 11, 9, 6, 1, 4, 5, 7, 10, 17, 1, 2, 7, 18, 1, 5, 18, 8, 4, 1, 4, 7, 2, 7, 1, 1, 2, 3, 6, 8, 2, 3, 4, 8, 1, 4, 7, 16, 13, 1, 2, 3, 2, 4, 1, 1, 2, 6, 3, 3, 5, 1, 2, 3, 5, 4, 7, 19, 1, 3, 4, 11, 13, 8, 5, 17, 6, 1, 4, 9, 11, 15, 3, 15, 14, 1, 3, 8, 12, 2, 9, 1, 2, 2, 11, 11, 12, 1, 2, 14, 2, 11, 4, 17, 17, 13, 15, 8, 16, 6, 2, 3, 7, 6, 14, 1, 2, 7, 9, 13, 13, 15, 9, 11, 4, 13, 19, 1, 2, 3, 5, 8, 9, 1, 2, 2, 3, 4, 8, 5, 2, 3, 10, 19, 2, 1, 2, 3, 1, 2, 14, 13, 7, 12, 15, 12, 1, 3, 4, 8, 10, 11, 17, 4, 8, 13, 13, 10, 3, 9, 2, 3, 4, 1, 1, 3, 11, 1, 2, 3, 6, 8, 17, 5, 2, 18, 3, 16, 12, 1, 2, 4, 5, 6, 8, 17, 1, 2, 9, 3, 15, 17, 9, 17, 1, 4, 7, 9, 13, 2, 1, 16, 20, 8, 7, 19, 2, 10, 9, 10, 5, 11, 10, 3, 17, 18, 15, 19, 5, 15, 16, 1, 5, 10, 7, 19, 9, 13, 6, 5, 8, 2, 4, 9, 12, 12, 20, 17, 5, 4, 5, 6, 8, 1, 8, 5, 8, 5, 9, 1, 4, 5, 8, 12, 3, 11, 6, 3, 5, 11, 4, 9, 9, 1, 4, 1, 3, 4, 5, 8, 9, 18, 1, 8, 4, 15, 6, 8, 1, 3, 4, 5, 7, 11, 19, 11, 2, 12, 16, 5, 2, 9, 1, 17, 10, 1, 2, 7, 1, 4, 14, 4, 5, 6, 13, 8, 18, 5, 9, 1, 4, 9, 13, 12, 3, 4, 7, 11, 1, 3, 4, 5, 8, 11, 1, 3, 5, 11, 12, 4, 16, 9, 9, 1, 5, 13, 6, 8, 7, 1, 2, 7, 9, 1, 16, 11, 2, 18, 19, 2, 3, 10, 10, 13, 1, 2, 18, 1, 11, 3, 11, 18, 6, 1, 2, 4, 7, 6, 18, 1, 5, 5, 11, 10, 20, 3, 5, 15, 17, 2, 4, 5, 10, 8, 4, 11, 14, 8, 8, 1, 2, 4, 1, 8, 3, 4, 7, 1, 4, 13, 12, 11, 1, 3, 1, 3, 5, 7, 19, 7, 11, 18, 5, 15, 15, 15, 1, 2, 5, 10, 2, 11, 13, 6, 2, 5, 7, 13, 1, 4, 3, 19, 13, 8, 1, 5, 1, 2, 1, 13, 11, 20, 16, 11, 12, 11, 6, 16, 17, 20, 10, 11, 17, 1, 2, 5, 7, 10, 10, 1, 4, 9, 1, 4, 18, 7, 7, 2, 1, 2, 7, 4, 11, 1, 6, 17, 1, 3, 4, 9, 1, 2, 3, 20, 5, 1, 3, 5, 8, 16, 1, 2, 4, 7, 5, 9, 8, 3, 16, 10, 17, 8, 11, 1, 2, 7, 13, 1, 13, 3, 8, 3, 4, 1, 2, 1, 2, 16, 2, 11, 1, 2, 4, 5, 7, 16, 2, 10, 14, 5, 4, 7, 10, 11, 2, 13, 12, 5, 2, 17, 11, 9, 11, 14, 7, 14, 13, 4, 1, 2, 3, 13, 13, 2, 4, 5, 10, 14, 16, 12, 9, 4, 1, 6, 14, 16, 18, 14, 11, 1, 3, 5, 8, 14, 14, 5, 1, 2, 11, 3, 3, 3, 13, 9, 15, 16, 19, 9, 2, 1, 2, 3, 7, 13, 12, 9, 1, 2, 5, 13, 9, 2, 4, 20, 1, 2, 10, 3, 7, 4, 5, 5, 18, 10, 7, 18, 10, 14, 10, 12, 12, 7, 1, 4, 1, 2, 3, 5, 13, 14, 1, 4, 7, 13, 1, 13, 1, 2, 3, 1, 1, 2, 4, 10, 11, 13, 1, 4, 7, 10, 12], \"Freq\": [0.9667068003764977, 0.9990620540691231, 0.17247932295134677, 0.8252243468792884, 0.997124032223396, 0.9922335744927032, 0.9978726777176757, 0.989136341821421, 0.010418815977052492, 0.9465464727114051, 0.05258591515063362, 0.9977743642365157, 0.9983363359489591, 0.9865229068736726, 0.9906782295072616, 0.9963541107322278, 0.9968671960699143, 0.9994038881766866, 0.9975628509225307, 0.9765304858469598, 0.4155497048901086, 0.49480127676929875, 0.05403002447480848, 0.30945989250277306, 0.08313598193182606, 0.05837919053160421, 0.9950184117289544, 0.9987514041739337, 0.9882582548122449, 0.9650017768714608, 0.034384261608123315, 0.9985174662558383, 0.9953745358954807, 0.807650797598119, 0.19105717792643676, 0.9989000742951903, 0.9963903729774024, 0.9960034660646954, 0.06014034512541297, 0.013631811561760273, 0.05773473132039645, 0.3937187927543702, 0.4739059195882542, 0.9984553082541009, 0.9332614038882362, 0.06369439848495381, 0.9982662978602014, 0.9977653464360219, 0.7338674605820057, 0.26603075924872377, 0.992913200961935, 0.9982217490683797, 0.975723103297147, 0.8995208582622352, 0.0954680156174542, 0.0031822671872484736, 0.9587554395442248, 0.9983485113809584, 0.9479000767578246, 0.05125494407034967, 0.90775053368954, 0.7866547684552714, 0.08189830466109675, 0.12931311262278433, 0.9950946736286246, 0.999975733111181, 0.006444602881272849, 0.9932270322902861, 0.9940557610136557, 0.9925815509113516, 0.9909182026425961, 0.9977195106119638, 0.8544932595916355, 0.9862289313859243, 0.9971080408050634, 0.36774458316666553, 0.6315457656332014, 0.8430853113794421, 0.9989451777431076, 0.3116825765524707, 0.6877312293790331, 0.9961901156953284, 0.9978453636048891, 0.005241700884785351, 0.9939575302774223, 0.998862028947569, 0.9972464957441328, 0.0831225925224256, 0.29823655448980174, 0.6179388334222078, 0.9505377818543788, 0.017183043970421967, 0.9807552789271614, 0.9975538532746342, 0.9960973541533172, 0.18166540552076918, 0.8167044752542406, 0.9959458890575131, 0.9939108349398309, 0.9983472887370635, 0.9974056136622353, 0.2040678174390922, 0.7953129533707323, 0.9957215791055684, 0.9977606751890092, 0.998561620765853, 0.9917025605017568, 0.9831722640074794, 0.996891412777692, 0.17248686649187658, 0.2782698275825978, 0.5363263504981788, 0.012801759622443966, 0.9959072386119999, 0.9979625561321401, 0.999367298161535, 0.9966292173076801, 0.9913585270369311, 0.9957351346499763, 0.9806561296766928, 0.9995001631262461, 0.9995311039302736, 0.9982898266952316, 0.8063611840735615, 0.10986995233156646, 0.08361783982756386, 0.9206562891201496, 0.07839649623512192, 0.9981556655368262, 0.9956715320459483, 0.9967799460884132, 0.9145294954889518, 0.551779827605715, 0.4436387988187626, 0.00390871188386575, 0.9993827756047227, 0.9993035122153856, 0.9969979576219864, 0.9984018005492925, 0.9960186755109715, 0.9986493437599865, 0.9987453976797112, 0.999210879159099, 0.9890529662832007, 0.9077832800159656, 0.9981610630303576, 0.9984695032265868, 0.9901289933280265, 0.37591487221905845, 0.024847251681856742, 0.4376322392997994, 0.05290060035492081, 0.10740424920544528, 0.9809074509916725, 0.9967498084228723, 0.9845717521321647, 0.9937054637823483, 0.9987997764384768, 0.9991277807581336, 0.07143311208866152, 0.6447944631011925, 0.28362527690660294, 0.9961331419142474, 0.9266063669224407, 0.03064548419056354, 0.9622682035836951, 0.8103162300201653, 0.9598150491617148, 0.9327955511359586, 0.06634533113175077, 0.9979361033413019, 0.9984245112708445, 0.9926149475893293, 0.9914326383480052, 0.9961926208878557, 0.9735140469183993, 0.9826877549107637, 0.016597521777758965, 0.9494594734555554, 0.9967382792258126, 0.9762106110737305, 0.98784233479818, 0.9950626615162574, 0.9993151380637166, 0.9910598871109279, 0.9591746765247481, 0.9961003252382752, 0.002091654196209159, 0.1526907563232686, 0.8439824681703956, 0.081204797332257, 0.9177254493029045, 0.9993370692245531, 0.9966682477222297, 0.9937358312547339, 0.9985918457479207, 0.9937204772009468, 0.9976518836582369, 0.9985369048314652, 0.9975400026704366, 0.9956113333935545, 0.038913617047215264, 0.08921658542532279, 0.8636924759259973, 0.0066437882763538255, 0.9921854662740861, 0.9965953268567634, 0.9941268780682581, 0.22611094629103765, 0.7732546618705387, 0.9913099862968134, 0.9978300693029942, 0.9278464933006962, 0.07094198540327255, 0.6980490685537356, 0.2690717775262197, 0.03228861330314636, 0.9975114520225331, 0.9975378660682914, 0.998985932159648, 0.8861954301370274, 0.2872620080048932, 0.6414588528264605, 0.06693483681667414, 0.9851525504726864, 0.9941145395887198, 0.029206059937721122, 0.6800839671212204, 0.17419328605712242, 0.11578116618168016, 0.4246540523587426, 0.170837837155816, 0.40268918758156624, 0.9983960848872769, 0.9853446936872243, 0.9991160171088929, 0.9991063427428601, 0.25951460751810973, 0.7381276131867547, 0.9179806035008015, 0.9578306572426948, 0.9976407924795925, 0.9899987854670886, 0.9987491486735068, 0.9972146305862805, 0.9546732226837266, 0.043677859861346965, 0.9972491938130935, 0.9985467143749638, 0.99588276635526, 0.9951382942749691, 0.9988507585012978, 0.4566119211669983, 0.29990487129903437, 0.2431661118640819, 0.8171033440878072, 0.040084314992986765, 0.1387533980526465, 0.8867456165776497, 0.994884529144639, 0.9958903811251281, 0.9963890990371325, 0.999606202150782, 0.9989296247325424, 0.9965603463935278, 0.9982272368163204, 0.9976255973601429, 0.4338202186111205, 0.5643189835591812, 0.9966963563839416, 0.9985230250970889, 0.9897534648726757, 0.9974124951128446, 0.9992369249156133, 0.9866065984035227, 0.9990436757737529, 0.998267147808058, 0.9786396045941006, 0.9953495027118776, 0.9992220064615263, 0.9937438125018697, 0.9987133674611436, 0.9908177772874946, 0.9957758950892885, 0.9499887469491872, 0.04111458426205749, 0.008706617843729822, 0.9983685345876868, 0.9996907738972364, 0.9629952646072222, 0.9686765231911952, 0.9704340325474258, 0.9913176696755984, 0.9994428795629001, 0.25607787686022127, 0.7428213221899549, 0.9523915172229025, 0.9958134920213119, 0.9964334552372426, 0.9947529012534666, 0.6076016746344465, 0.3918179023343627, 0.9992169295511003, 0.9968860291234523, 0.9966587196861454, 0.997712973726984, 0.9992227333303847, 0.6881493809831774, 0.2200838110351603, 0.09092664493471413, 0.9694623953484731, 0.9835649135276513, 0.997994826144361, 0.9995138110103232, 0.18662074288642744, 0.1929113297252958, 0.6185743724887202, 0.7749097363215962, 0.19762798644443394, 0.006934315313839787, 0.0200599835864651, 0.997971899774573, 0.9979837559664501, 0.9977975079878825, 0.20243547613840376, 0.3547338037258846, 0.15014189109066697, 0.17628868361453537, 0.09057033286618331, 0.005121536679932984, 0.020755701281833676, 0.997661801772273, 0.9885022375773445, 0.9961970461897008, 0.9874332888544887, 0.9841554108030944, 0.034726595404300925, 0.3542112731238694, 0.48964499520064303, 0.12067491902994572, 0.993600501679504, 0.997374353288083, 0.02318803573690258, 0.18550428589522064, 0.6613631062351345, 0.08670309014667922, 0.041335194139695906, 0.9943092254463863, 0.9974042368364258, 0.9923781895149987, 0.9932886393161326, 0.9926487321377504, 0.9704419361641559, 0.027726912461833023, 0.9721522161417907, 0.9964473887467962, 0.9993268017215344, 0.9956959870031531, 0.9951074392516607, 0.9932390862344427, 0.02979382135063377, 0.909231760773468, 0.060817228979230205, 0.9858924660988584, 0.9209487686184165, 0.04323703139053598, 0.025221601644479324, 0.005044320328895864, 0.0052845260588432865, 0.9949342941770817, 0.06892256752629719, 0.9309005562193226, 0.9989083914257747, 0.9984733102788622, 0.3778409211900797, 0.6221266432982783, 0.9632611748665704, 0.03645012290681069, 0.9983197200906945, 0.990154515598335, 0.07635239321629583, 0.9231698452515769, 0.236089211294, 0.7615781009483872, 0.9992981386206212, 0.9946936107240362, 0.9987286375303553, 0.9962154788396748, 0.950171226367054, 0.9985275414376392, 0.9995336213115263, 0.994825750846373, 0.9949796120712393, 0.3456288257550861, 0.09045754424058894, 0.5633344826027721, 0.5927675713889798, 0.39517838092598656, 0.9815640289958604, 0.41113669471867786, 0.5469944324101152, 0.028062417949378877, 0.013363056166370894, 0.6260453163155897, 0.3729942889263443, 0.9937825225545641, 0.9959073309258862, 0.9975093952215829, 0.006235723404526167, 0.8464994521644271, 0.14705914362340877, 0.06803476800146216, 0.9277468363835748, 0.9958159937563208, 0.9911183750630675, 0.9978998758458572, 0.9288229626255894, 0.9944075538307645, 0.9974066519608711, 0.9896301880179529, 0.009475812691973217, 0.9985466050755373, 0.9970939905213915, 0.9847073531681395, 0.9950877648165997, 0.9446231922208929, 0.8384703892451895, 0.15233656998103146, 0.008669560893229433, 0.06086676277551849, 0.4226220509696378, 0.3112243907955757, 0.2055688780531662, 0.16779720555081012, 0.8303068619496983, 0.8859404748323896, 0.9988525357003727, 0.751769013743666, 0.03905863527331365, 0.208897869551655, 0.9934237956407502, 0.7777291504677434, 0.9988018200361221, 0.9983340937852533, 0.9978541992604493, 0.9828240212099019, 0.965197316711921, 0.9973675555143009, 0.9980390086828224, 0.9983015874006143, 0.988463819359251, 0.9253655960394256, 0.9557530826144077, 0.9990609923545741, 0.3745761820149587, 0.5748446357655307, 0.05033201879974692, 0.9151532675547844, 0.8546263966627861, 0.9985250206120061, 0.9997154679782034, 0.9688163565204851, 0.030221544098232606, 0.0022788090628024066, 0.9958395604446517, 0.9856315869033644, 0.013641959680323383, 0.8952208689825677, 0.10219469400463338, 0.0024415114608615485, 0.9774683640511226, 0.9784441325244715, 0.9941742604538905, 0.8869269925784796, 0.9412312914387649, 0.055853285426036604, 0.8078572664664508, 0.07286555736756223, 0.11631334312710245, 0.0022629055083093863, 0.9984269916329062, 0.9994364851010189, 0.9976758442355186, 0.13417216452154848, 0.15798970851945648, 0.5319251492866123, 0.06668912319414244, 0.10876678425711327, 0.9917378893649335, 0.9979632113741077, 0.5990938819877599, 0.4001737127980558, 0.9898223193752972, 0.17171623934249183, 0.8272682354205929, 0.9924623246783267, 0.9982384964058637, 0.9973986827212838, 0.0318594968021835, 0.9362790896968213, 0.030559109177604585, 0.9757568351497121, 0.02301313290447434, 0.9980669138679878, 0.22009065379329157, 0.5826435321352648, 0.19691113759608359, 0.00022950016036839578, 0.9953277833857608, 0.059996746718636425, 0.9249003429793754, 0.0148506798808506, 0.9974931414598045, 0.047429236643441765, 0.09850687610560982, 0.8537262595819517, 0.9897764250073923, 0.9916346155134727, 0.06287200246088795, 0.7909012127750337, 0.14598688450198605, 0.9302115806590299, 0.06942991733650865, 0.9992622245059455, 0.20276596505309477, 0.7860841958685398, 0.010853233473530136, 0.9993238821048562, 0.9994914887114528, 0.9975559610227369, 0.953459211472932, 0.04427119567441372, 0.0015681894925541646, 0.0006031498048285248, 0.8411105487679628, 0.15824283205634554, 0.9423366507618637, 0.8274058325980301, 0.030534328655732884, 0.14199704057787976, 0.9958835668417486, 0.9895986222933286, 0.9976079156356968, 0.9966521556745754, 0.9565442566018142, 0.9982078820096447, 0.8033755240189521, 0.1961218461848774, 0.9139793800054444, 0.0823585814949961, 0.9751851183660974, 0.935186171053164, 0.06382863215047448, 0.9908664929958215, 0.25511474131675554, 0.4564335480514996, 0.2878359798769481, 0.9918239636919816, 0.9966713188380169, 0.9940174112057928, 0.9983365923607825, 0.9974109666735571, 0.9969738412265036, 0.9931444065862581, 0.9981332396550012, 0.9989119594886106, 0.09544654780278454, 0.9038930534457731, 0.9978122357789202, 0.9988116442488029, 0.9963501399496789, 0.6982035067985137, 0.2981379937789274, 0.9953591968541693, 0.9936589753150217, 0.9970534825915792, 0.9980610412289245, 0.9944191331552344, 0.9987471408320866, 0.905062289538489, 0.07441416563523034, 0.019533718479247963, 0.9965975917699292, 0.9847180766152606, 0.5606407059220586, 0.4389822051592947, 0.8085035286318075, 0.029639640560840192, 0.1613713763867966, 0.9905204889948278, 0.991459250857735, 0.9894169384378909, 0.00985475038284752, 0.9972811192716586, 0.9898677729781246, 0.9767634730001784, 0.20640517968038802, 0.32991164295499326, 0.37956671166505607, 0.019988269184135436, 0.0639624613892334, 0.9913702017360939, 0.8758176839031604, 0.12381704383996801, 0.5334159498272456, 0.2612139904116568, 0.11087859631240499, 0.09414691623823578, 0.9986547952364623, 0.8066604960308953, 0.08653829076193512, 0.10631847150752029, 0.9958690387212922, 0.9958659390636696, 0.014650007069322792, 0.9068917837721167, 0.07832119163984108, 0.5443635110267544, 0.43212361184598025, 0.020577314849808584, 0.9961861716698205, 0.9348864003299283, 0.06319311652329536, 0.9534624227041579, 0.9927674060796476, 0.4979830140971415, 0.4622303874440134, 0.025218370585688574, 0.009895816305776529, 0.004149858450809512, 0.009159896542650451, 0.9846888783349235, 0.1567706893135296, 0.8403936951725275, 0.9815632428914634, 0.9963911575887461, 0.9937181151806184, 0.08320276863017313, 0.9124570293108987, 0.928456395966497, 0.06087427329631084, 0.009898255820538347, 0.9989820484323146, 0.9995706708653881, 0.9977629252745215, 0.9968501255909509, 0.2577501705147683, 0.6312794512192893, 0.11022000240594196, 0.0006414355135166361, 0.9986489279357027, 0.9543703419366311, 0.9960991979820928, 0.9983176533794744, 0.9960912306414966, 0.998087524454507, 0.976626746486155, 0.9921542681187037, 0.2426872531884596, 0.05229624311131789, 0.33175429223742287, 0.33216285663673006, 0.00776272358683625, 0.03309371634388086, 0.9947845848951896, 0.9990691177127251, 0.9538159615404711, 0.045240282760812864, 0.9303334493861919, 0.06875924709909145, 0.9946386277709481, 0.9925652601226203, 0.9928243829785854, 0.850005106030224, 0.07382673456131053, 0.053125319126889, 0.006484780738493493, 0.01646136649002194, 0.9978299096815955, 0.9985601985026993, 0.9698346986944671, 0.9725962351230443, 0.9984749132570669, 0.9987745761490293, 0.8656651173538596, 0.6604560480243818, 0.3374382428770859, 0.9977489924695521, 0.9946080895729744, 0.9952942737617323, 0.9937100587631401, 0.9991494695432088, 0.9989282578284416, 0.9634794607275532, 0.9858864761517294, 0.9883661649067391, 0.9764674211633065, 0.9545926569956165, 0.04314543082466063, 0.9690330433780923, 0.9614900531220778, 0.006778400591424627, 0.0312849258065752, 0.8556174750744491, 0.14225425013462725, 0.9308114385128684, 0.06503486033277683, 0.9974774324774401, 0.8924881786332275, 0.10467453946932916, 0.4044887271185981, 0.09144474690753328, 0.18625555811841132, 0.3164100445144096, 0.9911888749339115, 0.9189989340451165, 0.9884127355389194, 0.9974474107680444, 0.8536451129792807, 0.14511966920647773, 0.9982522708566226, 0.9966938115651954, 0.26106289321050485, 0.738124251636844, 0.9997433748340964, 0.9953743439271424, 0.9978133685453785, 0.9968100450711959, 0.002516425891049373, 0.0465538789844134, 0.7272470825132687, 0.2227036913578695, 0.9916870062116211, 0.9978711748350518, 0.0018031643925461725, 0.9972714245516388, 0.2961408471102631, 0.36866513619849084, 0.33038842806859287, 0.996290210302064, 0.9985736279011599, 0.9976070504128961, 0.01037460630031721, 0.9886999804202302, 0.0026344679140279975, 0.20285402938015581, 0.36829861438111405, 0.1164434818000375, 0.2681888336480502, 0.04109769945883676, 0.9657712989905787, 0.3666719896814785, 0.633067949235897, 0.9980655310214853, 0.9632132985871009, 0.9975269850590693, 0.9975256218400245, 0.9493549974661537, 0.02478515540466051, 0.0086330316578031, 0.016709093531231806, 0.9974256753201473, 0.3205676804168299, 0.6411353608336599, 0.9931772719417318, 0.36387637629705144, 0.6336894716465657, 0.9927451355082079, 0.9957052385290069, 0.5270776595129476, 0.47159580061684786, 0.9993127302618895, 0.9941746081862053, 0.9924211459630924, 0.31421470374056387, 0.6849524490888496, 0.9985398941043858, 0.41319606327206426, 0.586558759384039, 0.997510002751745, 0.08611491575824491, 0.9130256128585001, 0.9941071067974735, 0.9917481759176745, 0.9951403045511356, 0.9854783762803374, 0.8636114175693613, 0.13427173983410565, 0.9992465066615875, 0.9983807597737746, 0.9935497050337693, 0.9904158659654846, 0.9977388849129413, 0.23630293444623846, 0.11815146722311923, 0.5247954740462474, 0.12032603410452633, 0.21263092372645412, 0.1628807396494312, 0.00954113119285371, 0.5554301372982696, 0.04089056225508733, 0.017719243643871178, 0.3954883538719907, 0.3471192746214595, 0.021813506328670948, 0.23520650302219112, 0.9948775312489062, 0.9966669192038946, 0.9811169663545085, 0.9930927151295784, 0.993206649456076, 0.39909129298197676, 0.5969017599382609, 0.003470359069408494, 0.998865087183568, 0.9972953965625857, 0.995425677021392, 0.4712722435892607, 0.18061641541746223, 0.00758892501754043, 0.3404897691203139, 0.9981140638569187, 0.9783465182040799, 0.9937480149024632, 0.9968747560042602, 0.9905065448143127, 0.964791548320506, 0.25390579332191016, 0.6026363546657622, 0.14317292276997146, 0.07486040795807465, 0.9182876709523823, 0.36136678890343205, 0.6383216444915837, 0.988758187355936, 0.4103157573154847, 0.5877495983167754, 0.9991839344818985, 0.9965038233855953, 0.9583248314812662, 0.9971069303322321, 0.8436632722753689, 0.011424837896971206, 0.11757600165815027, 0.02717558528891209, 0.9984411900569233, 0.976768673611677, 0.9984650152424812, 0.9986476060286812, 0.9150276087529489, 0.08336918213082424, 0.9974100006835763, 0.9436096575566036, 0.9986479933126005, 0.9957714315076346, 0.9966131714262114, 0.9970408309745716, 0.4834050142234295, 0.10122897111203835, 0.2743451825790025, 0.1393732210962847, 0.9974862374546936, 0.35319183174554347, 0.0860339077328888, 0.5584657168626115, 0.9981462717630532, 0.9987734527844692, 0.8634967851728239, 0.13314324146961967, 0.00322380729950653, 0.9994670136646395, 0.997947692623084, 0.8954596711360552, 0.06284732323034814, 0.04128656270606812, 0.1458749876483034, 0.8531132546124515, 0.9927270758052665, 0.9950356728083583, 0.9972101306789948, 0.9983081289109677, 0.9986811000378379, 0.03715025439160159, 0.4617917697791489, 0.4359276686204389, 0.06489538108912683, 0.9687925506383007, 0.998639928211189, 0.9941002939452547, 0.8875659966814479, 0.9984464731945569, 0.7500940269896833, 0.97089856650342, 0.983342236528621, 0.0333329930138724, 0.1777759627406528, 0.7611033404834198, 0.027777494178227, 0.9960700917488673, 0.9929186857408896, 0.9897907453513513, 0.9993460909313443, 0.34379961209009213, 0.6022313746770012, 0.0481164242654305, 0.004656428154719081, 0.00650252791557327, 0.9927192617775192, 0.9994796589383911, 0.8546263966627861, 0.9983181768564239, 0.9952429437568957, 0.36411344805107543, 0.6355826460063151, 0.9987112748907554, 0.9982719984860112, 0.9983818886443232, 0.9886291661064811, 0.9991071286211543, 0.9052506835068999, 0.9878824519851578, 0.9890194946174388, 0.9916810502053545, 0.9908746200032464, 0.997698169321856, 0.9873907934232303, 0.9041402693992158, 0.9532585899116659, 0.9881200833623929, 0.21156016002791297, 0.7835561482515295, 0.11525489199014081, 0.7413087021778318, 0.06861478005638734, 0.07399633143335889, 0.9877464849652606, 0.993885280389195, 0.022707695003238174, 0.08314509862724132, 0.8939844848197921, 0.011720759393506211, 0.98600888397871, 0.9905912782244529, 0.9972933520996442, 0.9961073844596549, 0.9963242442597013, 0.20714111823779283, 0.3607248370833046, 0.43082202158202537, 0.8753639889712896, 0.12303798380855609, 0.9982624353735848, 0.993954771175662, 0.9411525101000284, 0.06121005151542772, 0.6774958693374264, 0.10097042685878248, 0.15956466420688423, 0.7961953743244117, 0.19565960878473806, 0.007694478997152621, 0.9724569222715451, 0.997818692810935, 0.01857453235171164, 0.49811702887278314, 0.06630908323406737, 0.4168284840647548, 0.9703436915563168, 0.6170230323110418, 0.34173906867942844, 0.004836922202847295, 0.036382067004025305, 0.7169358442675062, 0.2828515785879002, 0.9966902598358812, 0.9990667546790646, 0.9948518985000172, 0.9993706081892829, 0.948523555516127, 0.9791837895727304, 0.01972020025475677, 0.7355663757173679, 0.26410278998899034, 0.2728154473916815, 0.7186358126415024, 0.26151790833435135, 0.7355191171903632, 0.9784929477397653, 0.020491998905544824, 0.9995580376108034, 0.9968385090978286, 0.9324188165583689, 0.067305634114788, 0.9518609003358806, 0.04787695146754497, 0.916523808938056, 0.995059401128601, 0.990736004673909, 0.4104997584279606, 0.4785324531468482, 0.016739421499681148, 0.09414004935141783, 0.00015357267430900134, 0.9912422422682825, 0.8324694022610609, 0.13232411021855897, 0.033499774738875686, 0.9946904330583066, 0.07079750918110853, 0.45512684473569764, 0.34791918797573335, 0.12338994457278915, 0.6284476690551178, 0.36727461178545845, 0.9926302962599273, 0.9979571261151677, 0.5295619063285442, 0.4667680043923531, 0.9945414498846303, 0.8800094685158748, 0.06134114257751406, 0.056622593148474516, 0.9983390942388933, 0.9875234192001572, 0.9921987223584925, 0.9988621567226599, 0.767705522089704, 0.0983696066530844, 0.13358545629022678, 0.9975639348649092, 0.996405708993761, 0.9170998401753022, 0.06488540715649248, 0.017408279968815055, 0.9916188797221328, 0.985627129730834, 0.9821640168653295, 0.9979184068187643, 0.9962900463050021, 0.9976081856195266, 0.9945784770526246, 0.004531109234863893, 0.9877096053687882, 0.9870981516922273, 0.9965479236849871, 0.9872563875462684, 0.9940028780269963, 0.07407708771276407, 0.30711788296364845, 0.5016894609903078, 0.11699728874805655, 0.9959054012540621, 0.8180978276044394, 0.9984581661360529, 0.1931611299064713, 0.8064306536554624, 0.9955269042318912, 0.9990478542170396, 0.9987547088648889, 0.9986216581765598, 0.9973501291666472, 0.9946280582139948, 0.915638208188238, 0.9817714924982047, 0.9212584072835098, 0.9980429074676203, 0.9979850357176535, 0.5803227535805251, 0.3711859717711692, 0.04836022946504376, 0.9513072603827338, 0.04756536301913669, 0.996866653910557, 0.9975752223514294, 0.9581054902342201, 0.0267067732469469, 0.005118798205664823, 0.00979248352388053, 0.9982403873697054, 0.9551026893038104, 0.04402119391029908, 0.9636313434529747, 0.6393955714505347, 0.35315548662271756, 0.007234097491340584, 0.022106885824186816, 0.9758611028105324, 0.7848947896950224, 0.21397257457766314, 0.9978179808567728, 0.8869269925784796, 0.9957996029869497, 0.9959200957290762, 0.8890416473366528, 0.9993832261339283, 0.9995765910802709, 0.9984580518537448, 0.9977260347186871, 0.9934988943957165, 0.9978705846637557, 0.16281263341065044, 0.8365952725699047, 0.07950980493089979, 0.4609529973045242, 0.19673579938030333, 0.2523926628319332, 0.009989693440036128, 0.9950786201767485, 0.36742350408555796, 0.6229166691781645, 0.0036499023584658074, 0.005474853537698711, 0.9970493458305247, 0.9801886501439199, 0.8123384847055255, 0.18482311304279536, 0.002823384805589118, 0.9989811867183446, 0.06794677409973718, 0.5914880274214203, 0.041924605295582514, 0.2199492839398787, 0.06897939984593379, 0.009706682014248168, 0.06846545490055578, 0.017116363725138944, 0.8360685358048638, 0.07768195844486137, 0.9959574402641691], \"Term\": [\"absurd\", \"accept\", \"access\", \"access\", \"account\", \"acquire\", \"actual\", \"actually\", \"actually\", \"address\", \"address\", \"advance\", \"advice\", \"afford\", \"aged\", \"agent\", \"ago\", \"agree\", \"air\", \"alarm\", \"alavi\", \"also\", \"also\", \"also\", \"also\", \"also\", \"ammunition\", \"amount\", \"amp\", \"answer\", \"answer\", \"anyway\", \"apple\", \"application\", \"application\", \"appreciate\", \"apr\", \"arab\", \"area\", \"area\", \"area\", \"area\", \"area\", \"argument\", \"arm\", \"arm\", \"armenian\", \"around\", \"article\", \"article\", \"astronomy\", \"atheist\", \"atom\", \"attack\", \"attack\", \"attack\", \"australian\", \"authority\", \"available\", \"available\", \"ave\", \"avoid\", \"avoid\", \"avoid\", \"aware\", \"ax\", \"back\", \"back\", \"ban\", \"band\", \"bank\", \"baseball\", \"batf_fbi\", \"battery\", \"bear\", \"become\", \"become\", \"bee\", \"belief\", \"believe\", \"believe\", \"benefit\", \"bible\", \"big\", \"big\", \"bike\", \"bill\", \"bit\", \"bit\", \"bit\", \"bk\", \"black\", \"black\", \"blank\", \"blind\", \"block\", \"block\", \"blood\", \"blue\", \"board\", \"bomb\", \"book\", \"book\", \"bounce\", \"box\", \"brain\", \"brave\", \"brief\", \"brown\", \"build\", \"build\", \"build\", \"build\", \"building\", \"bus\", \"buy\", \"cable\", \"camera\", \"canadian\", \"captain\", \"car\", \"card\", \"care\", \"case\", \"case\", \"case\", \"center\", \"center\", \"certainly\", \"channel\", \"character\", \"chase\", \"child\", \"child\", \"child\", \"chip\", \"christian\", \"christianity\", \"church\", \"circuit\", \"citizen\", \"city\", \"claim\", \"click\", \"clinton_gore\", \"clipper\", \"clipper_chip\", \"clock\", \"close\", \"close\", \"close\", \"close\", \"close\", \"closely\", \"club\", \"cmu\", \"collect\", \"color\", \"com\", \"come\", \"come\", \"come\", \"compile\", \"compiler\", \"component\", \"component\", \"comprehend\", \"comprise\", \"computer\", \"computer\", \"concept\", \"conclusion\", \"conference\", \"confirm\", \"connector\", \"conservative\", \"consider\", \"consider\", \"consult\", \"controller\", \"controversial\", \"cooperation\", \"cop\", \"copy\", \"corporation\", \"cosmic\", \"count\", \"country\", \"country\", \"country\", \"couple\", \"couple\", \"course\", \"court\", \"coverage\", \"cpu\", \"crack\", \"crash\", \"crime\", \"criminal\", \"crypto\", \"current\", \"current\", \"current\", \"current\", \"customer\", \"cycle\", \"cylinder\", \"d\", \"d\", \"danger\", \"data\", \"datum\", \"datum\", \"day\", \"day\", \"day\", \"dead\", \"dealer\", \"death\", \"deepak_chhabra\", \"defense\", \"defense\", \"defense\", \"deficit\", \"dept\", \"design\", \"design\", \"design\", \"design\", \"development\", \"development\", \"development\", \"device\", \"diagnostic\", \"die\", \"difference\", \"digital\", \"digital\", \"digital_equipment\", \"dinner\", \"direct\", \"directory\", \"discussion\", \"disk\", \"display\", \"display\", \"distance\", \"distribution\", \"distribution_usa\", \"distribution_world\", \"division\", \"do\", \"do\", \"do\", \"document\", \"document\", \"document\", \"dod_fxwg\", \"dog\", \"door\", \"draft\", \"drive\", \"driver\", \"drop\", \"drug\", \"dual\", \"earth\", \"earth\", \"eat\", \"effect\", \"electrical\", \"electronic\", \"email\", \"enable\", \"encryption\", \"engineering\", \"enhancement\", \"ensure\", \"entry\", \"era\", \"error\", \"escape\", \"european\", \"even\", \"even\", \"even\", \"event\", \"evidence\", \"evolve\", \"excellent_condition\", \"excerpt\", \"exclude\", \"exist\", \"explain\", \"explain\", \"explode\", \"export\", \"external\", \"facility\", \"fact\", \"fact\", \"faith\", \"family\", \"fan\", \"faq\", \"far\", \"fast\", \"fast\", \"fast\", \"fatal\", \"fee\", \"fight\", \"file\", \"final\", \"final\", \"final\", \"find\", \"find\", \"find\", \"find\", \"fine\", \"fire\", \"firearm\", \"first\", \"first\", \"first\", \"first\", \"first\", \"first\", \"first\", \"fix\", \"flag\", \"flight\", \"floppy\", \"flyer\", \"follow\", \"follow\", \"follow\", \"follow\", \"font\", \"foot\", \"force\", \"force\", \"force\", \"force\", \"force\", \"foreign\", \"format\", \"frame\", \"ftp_site\", \"fuel\", \"function\", \"function\", \"functionality\", \"future\", \"game\", \"gateway\", \"generate\", \"genocide\", \"get\", \"get\", \"get\", \"giant\", \"give\", \"give\", \"give\", \"give\", \"give\", \"gmt\", \"go\", \"go\", \"goal\", \"god\", \"good\", \"good\", \"government\", \"government\", \"graphic\", \"greatly_appreciate\", \"greek\", \"greek\", \"ground\", \"ground\", \"gun\", \"gun_control\", \"guy\", \"handle\", \"hassle\", \"headache\", \"hear\", \"heat\", \"helmet\", \"help\", \"help\", \"help\", \"helpful\", \"helpful\", \"hi\", \"high\", \"high\", \"high\", \"high\", \"hit\", \"hit\", \"hitter\", \"hole\", \"hopefully\", \"host\", \"host\", \"host\", \"hot\", \"hot\", \"house\", \"hr\", \"human\", \"hype\", \"ice\", \"ide\", \"idea\", \"idea\", \"image\", \"impression\", \"impressive\", \"improvement\", \"in\", \"include\", \"include\", \"include\", \"increase\", \"increase\", \"increase\", \"increase\", \"industry\", \"industry\", \"inferior\", \"info\", \"information\", \"information\", \"information\", \"inhabitant\", \"initialize\", \"input\", \"instal\", \"insurance\", \"intelligence\", \"interactive\", \"interface\", \"internal\", \"internet\", \"investment\", \"involved\", \"io\", \"israeli\", \"issue\", \"issue\", \"issue\", \"ist\", \"ists_ca\", \"job\", \"key\", \"keyword\", \"keyword\", \"kid\", \"kid\", \"kill\", \"kill\", \"know\", \"know\", \"know\", \"koresh\", \"kurd\", \"laboratory\", \"lady_cb\", \"land\", \"land\", \"last\", \"last\", \"last\", \"last\", \"launch\", \"law\", \"law_enforcement\", \"lead\", \"lead\", \"lead\", \"lead\", \"lead\", \"leafs\", \"learn\", \"leave\", \"leave\", \"length\", \"level\", \"level\", \"library\", \"license\", \"lie\", \"life\", \"life\", \"life\", \"light\", \"light\", \"likely\", \"line\", \"line\", \"line\", \"line\", \"link\", \"list\", \"list\", \"list\", \"listen\", \"live\", \"live\", \"live\", \"locate\", \"lock\", \"look\", \"look\", \"look\", \"lose\", \"lose\", \"lot\", \"m\", \"m\", \"m\", \"machine\", \"mail\", \"main\", \"make\", \"make\", \"make\", \"make\", \"man\", \"man\", \"manifest\", \"many\", \"many\", \"many\", \"mar\", \"massacre\", \"master\", \"material\", \"mathematical\", \"mb\", \"mean\", \"mean\", \"meet\", \"meet\", \"meg\", \"memory\", \"memory\", \"menu\", \"message\", \"message\", \"message\", \"middle\", \"mile\", \"million\", \"mind\", \"mine\", \"minute\", \"mirror\", \"mission\", \"model\", \"money\", \"money\", \"monitor\", \"month\", \"moon\", \"moral\", \"moral\", \"morality\", \"moslem\", \"motherboard\", \"motif\", \"mount\", \"mouse\", \"move\", \"move\", \"move\", \"mph\", \"ms_window\", \"much\", \"much\", \"murder\", \"murder\", \"murder\", \"muslim\", \"n\", \"national\", \"national\", \"nature\", \"nazi\", \"neat\", \"need\", \"need\", \"need\", \"need\", \"need\", \"neighbor\", \"never\", \"never\", \"new\", \"new\", \"new\", \"new\", \"newsgroup\", \"next\", \"next\", \"next\", \"nhl\", \"night\", \"nntp_poste\", \"nntp_poste\", \"nntp_poste\", \"normal\", \"normal\", \"normal\", \"northern\", \"notice\", \"notice\", \"ns\", \"nuclear\", \"number\", \"number\", \"number\", \"number\", \"number\", \"objective\", \"objective\", \"obtain\", \"obtain\", \"occupation\", \"occupy\", \"offense\", \"official\", \"official\", \"old\", \"old\", \"old\", \"one\", \"opinion\", \"option\", \"orbit\", \"organization\", \"organization\", \"organization\", \"organization\", \"originator\", \"outer\", \"output\", \"owner\", \"pack\", \"package\", \"paint\", \"panel\", \"part\", \"part\", \"part\", \"part\", \"part\", \"part\", \"past\", \"patient\", \"pay\", \"pay\", \"pc\", \"pc\", \"pen\", \"penalty\", \"penguin\", \"people\", \"people\", \"people\", \"people\", \"people\", \"performance\", \"perhaps\", \"peripheral\", \"phase\", \"phone\", \"physical\", \"physics_laboratory\", \"pick\", \"pick\", \"pin\", \"pitch\", \"plane\", \"planet\", \"play\", \"player\", \"playing\", \"please\", \"please_respond\", \"plot\", \"plug\", \"plug\", \"po_andrew\", \"point\", \"point\", \"point\", \"police\", \"police\", \"policy\", \"policy\", \"pop\", \"possibility\", \"possibility\", \"power\", \"power\", \"power\", \"power\", \"power_supply\", \"powerbook\", \"predict\", \"prefer\", \"present\", \"present\", \"printer\", \"privacy\", \"private\", \"private\", \"problem\", \"procedure\", \"process\", \"processor\", \"produce\", \"produce\", \"produce\", \"produce\", \"production\", \"program\", \"program\", \"programmer\", \"project\", \"project\", \"project\", \"proof\", \"protect\", \"protection\", \"prove\", \"prove\", \"provide\", \"provide\", \"provide\", \"provide\", \"provide\", \"provide\", \"pseudo\", \"public\", \"public\", \"publish\", \"purchasing\", \"purdue_university\", \"quality\", \"question\", \"question\", \"question\", \"question\", \"race\", \"radar\", \"radar\", \"radiation\", \"radio\", \"radio\", \"ram\", \"range\", \"rate\", \"rate\", \"rather\", \"rational\", \"rd\", \"re\", \"re\", \"reality\", \"reason\", \"reason\", \"recommend\", \"reference\", \"reference\", \"reflect\", \"region\", \"register\", \"regularly\", \"relate\", \"relate\", \"religion\", \"religious\", \"remind\", \"render\", \"replace\", \"report\", \"report\", \"report\", \"report\", \"require\", \"require\", \"require\", \"require\", \"require\", \"require\", \"research\", \"research\", \"research\", \"research\", \"reserve_university\", \"respect\", \"restore\", \"restrict\", \"restriction\", \"result\", \"result\", \"result\", \"review\", \"ride\", \"rider\", \"right\", \"right\", \"right\", \"right\", \"risk\", \"rob\", \"rocket\", \"room\", \"routine\", \"row\", \"run\", \"run\", \"run\", \"russian\", \"russian\", \"s\", \"s\", \"sad\", \"safety\", \"safety\", \"sale\", \"satellite\", \"satisfactory\", \"saturn\", \"say\", \"say\", \"say\", \"say\", \"sc\", \"scare\", \"school\", \"science\", \"scientific\", \"scientific\", \"score\", \"scott_roby\", \"screen\", \"scripture\", \"scsi\", \"season\", \"second\", \"second\", \"second\", \"second\", \"secret\", \"section\", \"section\", \"section\", \"secure\", \"security\", \"see\", \"see\", \"see\", \"seem\", \"self\", \"send\", \"send\", \"send\", \"sense\", \"sense\", \"serdar_argic\", \"serial\", \"series\", \"serious\", \"server\", \"set\", \"set\", \"set\", \"set\", \"sharp\", \"shoot\", \"shuttle\", \"si\", \"signal\", \"silverline\", \"simm\", \"simms\", \"single\", \"single\", \"single\", \"single\", \"sit\", \"sky\", \"slaughter\", \"slow\", \"small\", \"small\", \"small\", \"small\", \"society\", \"society\", \"software\", \"solar_terresterial\", \"soldier\", \"somehow\", \"sometimes\", \"sometimes\", \"soon\", \"sorry\", \"sort\", \"soviet\", \"space\", \"space_shuttle\", \"spacecraft\", \"speaker\", \"spec\", \"specification\", \"specify\", \"spring\", \"squad\", \"ssf\", \"staff\", \"star\", \"star\", \"start\", \"start\", \"start\", \"start\", \"starter\", \"stat\", \"state\", \"state\", \"state\", \"statement\", \"statement\", \"status\", \"stay\", \"step\", \"stick\", \"stop\", \"stop\", \"stop\", \"study\", \"study\", \"suggest\", \"suitable\", \"sunlight\", \"support\", \"support\", \"support\", \"support\", \"sure\", \"sure\", \"sure\", \"sustain\", \"switch\", \"system\", \"system\", \"system\", \"system\", \"tail\", \"take\", \"take\", \"take\", \"take\", \"talk\", \"talk\", \"tap\", \"tape\", \"task\", \"team\", \"team_captain\", \"technology\", \"technology\", \"tell\", \"tell\", \"territory\", \"territory\", \"terrorism\", \"terrorism\", \"test\", \"test\", \"thank\", \"therefore\", \"thing\", \"thing\", \"think\", \"think\", \"thunder\", \"ticket\", \"tie\", \"time\", \"time\", \"time\", \"time\", \"time\", \"tip\", \"top\", \"top\", \"top\", \"topic\", \"total\", \"total\", \"total\", \"total\", \"town\", \"town\", \"trace\", \"track\", \"trade\", \"trade\", \"training\", \"transfer\", \"transfer\", \"transfer\", \"trial\", \"trivial\", \"troop\", \"truth\", \"try\", \"try\", \"try\", \"turk\", \"turkish\", \"turn\", \"turn\", \"turn\", \"twice\", \"unable\", \"unique\", \"unit\", \"united_state\", \"universe\", \"university\", \"university\", \"unix\", \"up\", \"upgrade\", \"upper\", \"usage\", \"use\", \"use\", \"use\", \"use\", \"usenet\", \"user_interface\", \"value\", \"ve\", \"ve\", \"vehicle\", \"version\", \"version_pl\", \"video\", \"village\", \"violation\", \"visualization\", \"vms_vnews\", \"void\", \"vote\", \"wait\", \"want\", \"want\", \"want\", \"war\", \"war\", \"warranty\", \"watch\", \"way\", \"way\", \"way\", \"way\", \"weapon\", \"week\", \"week\", \"weeks_ago\", \"well\", \"well\", \"well\", \"white\", \"white\", \"whole\", \"whole\", \"wide\", \"wide_glide\", \"widget\", \"wife\", \"wild_corn\", \"win\", \"window\", \"wing\", \"wire\", \"wiring\", \"withdraw\", \"word\", \"word\", \"work\", \"work\", \"work\", \"work\", \"work\", \"workstation\", \"world\", \"world\", \"world\", \"world\", \"worth\", \"wound\", \"write\", \"write\", \"write\", \"wrong\", \"year\", \"year\", \"year\", \"year\", \"year\", \"year\", \"young\", \"young\", \"young\", \"young\", \"zone\"]}, \"R\": 30, \"lambda.step\": 0.01, \"plot.opts\": {\"xlab\": \"PC1\", \"ylab\": \"PC2\"}, \"topic.order\": [14, 17, 6, 5, 19, 2, 1, 18, 16, 15, 3, 20, 12, 10, 7, 4, 11, 13, 8, 9]};\n",
              "\n",
              "function LDAvis_load_lib(url, callback){\n",
              "  var s = document.createElement('script');\n",
              "  s.src = url;\n",
              "  s.async = true;\n",
              "  s.onreadystatechange = s.onload = callback;\n",
              "  s.onerror = function(){console.warn(\"failed to load library \" + url);};\n",
              "  document.getElementsByTagName(\"head\")[0].appendChild(s);\n",
              "}\n",
              "\n",
              "if(typeof(LDAvis) !== \"undefined\"){\n",
              "   // already loaded: just create the visualization\n",
              "   !function(LDAvis){\n",
              "       new LDAvis(\"#\" + \"ldavis_el4091407069053929764470708551\", ldavis_el4091407069053929764470708551_data);\n",
              "   }(LDAvis);\n",
              "}else if(typeof define === \"function\" && define.amd){\n",
              "   // require.js is available: use it to load d3/LDAvis\n",
              "   require.config({paths: {d3: \"https://d3js.org/d3.v5\"}});\n",
              "   require([\"d3\"], function(d3){\n",
              "      window.d3 = d3;\n",
              "      LDAvis_load_lib(\"https://cdn.jsdelivr.net/gh/bmabey/pyLDAvis@3.3.1/pyLDAvis/js/ldavis.v3.0.0.js\", function(){\n",
              "        new LDAvis(\"#\" + \"ldavis_el4091407069053929764470708551\", ldavis_el4091407069053929764470708551_data);\n",
              "      });\n",
              "    });\n",
              "}else{\n",
              "    // require.js not available: dynamically load d3 & LDAvis\n",
              "    LDAvis_load_lib(\"https://d3js.org/d3.v5.js\", function(){\n",
              "         LDAvis_load_lib(\"https://cdn.jsdelivr.net/gh/bmabey/pyLDAvis@3.3.1/pyLDAvis/js/ldavis.v3.0.0.js\", function(){\n",
              "                 new LDAvis(\"#\" + \"ldavis_el4091407069053929764470708551\", ldavis_el4091407069053929764470708551_data);\n",
              "            })\n",
              "         });\n",
              "}\n",
              "</script>"
            ]
          },
          "metadata": {},
          "execution_count": 18
        }
      ]
    }
  ]
}