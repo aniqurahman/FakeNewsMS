{
  "nbformat": 4,
  "nbformat_minor": 0,
  "metadata": {
    "colab": {
      "name": "FakeNews-TopicExtraction.ipynb",
      "provenance": [],
      "collapsed_sections": [],
      "authorship_tag": "ABX9TyNURH0dCBNtco7qLCuOlyr1",
      "include_colab_link": true
    },
    "kernelspec": {
      "name": "python3",
      "display_name": "Python 3"
    },
    "language_info": {
      "name": "python"
    }
  },
  "cells": [
    {
      "cell_type": "markdown",
      "metadata": {
        "id": "view-in-github",
        "colab_type": "text"
      },
      "source": [
        "<a href=\"https://colab.research.google.com/github/aniqurahman/FakeNewsMS/blob/main/FakeNews_TopicExtraction.ipynb\" target=\"_parent\"><img src=\"https://colab.research.google.com/assets/colab-badge.svg\" alt=\"Open In Colab\"/></a>"
      ]
    },
    {
      "cell_type": "code",
      "source": [
        "import nltk\n",
        "from nltk import ne_chunk\n",
        "from nltk.tokenize import RegexpTokenizer\n",
        "from nltk.corpus import stopwords\n",
        "from nltk.stem import WordNetLemmatizer\n",
        "from nltk.corpus import wordnet\n",
        "from nltk.stem import PorterStemmer\n",
        "from nltk.tag import pos_tag\n",
        "\n",
        "import re\n",
        "import numpy as np\n",
        "import pandas as pd\n",
        "\n",
        "nltk.download('punkt')\n",
        "nltk.download('stopwords')\n",
        "nltk.download('averaged_perceptron_tagger')\n",
        "nltk.download('maxent_ne_chunker')\n",
        "nltk.download('words')\n",
        "nltk.download('wordnet')"
      ],
      "metadata": {
        "colab": {
          "base_uri": "https://localhost:8080/"
        },
        "id": "bU1_U_1ppZzG",
        "outputId": "fa9ae30e-3857-40ea-fb26-d4ca2f64260c"
      },
      "execution_count": 1,
      "outputs": [
        {
          "output_type": "stream",
          "name": "stdout",
          "text": [
            "[nltk_data] Downloading package punkt to /root/nltk_data...\n",
            "[nltk_data]   Unzipping tokenizers/punkt.zip.\n",
            "[nltk_data] Downloading package stopwords to /root/nltk_data...\n",
            "[nltk_data]   Unzipping corpora/stopwords.zip.\n",
            "[nltk_data] Downloading package averaged_perceptron_tagger to\n",
            "[nltk_data]     /root/nltk_data...\n",
            "[nltk_data]   Unzipping taggers/averaged_perceptron_tagger.zip.\n",
            "[nltk_data] Downloading package maxent_ne_chunker to\n",
            "[nltk_data]     /root/nltk_data...\n",
            "[nltk_data]   Unzipping chunkers/maxent_ne_chunker.zip.\n",
            "[nltk_data] Downloading package words to /root/nltk_data...\n",
            "[nltk_data]   Unzipping corpora/words.zip.\n",
            "[nltk_data] Downloading package wordnet to /root/nltk_data...\n",
            "[nltk_data]   Unzipping corpora/wordnet.zip.\n"
          ]
        },
        {
          "output_type": "execute_result",
          "data": {
            "text/plain": [
              "True"
            ]
          },
          "metadata": {},
          "execution_count": 1
        }
      ]
    },
    {
      "cell_type": "code",
      "source": [
        "##Preprocessing stage\n",
        "#Step-1: Tokenization\n",
        "orignal_text = \"ISLAMABAD: Pakistan is likely to remain on the so-called grey list of the Financial Action Task Force (FATF) for another four months — i.e. until June — for a couple of unmet targets under the additional criteria. The concluding session of the plenary meeting of the FATF, a Paris-based global money laundering and terrorist financing watchdog, is due on Friday (today) and includes Pakistan’s review on the agenda. Pakistan is now targeting the full completion of the 2021 action plan on anti-money laundering and combating terror financing (AML/CFT) by the end of January 2023. Pakistan has been on the grey list for deficiencies in its counter-terror financing and anti-money laundering regimes since June 2018.\"\n",
        "\n",
        "print(\"Oringal Text: \\t\\t\",orignal_text)\n",
        "tokenizer = RegexpTokenizer(r'\\w+')                                             #tokenize and remove puntuations\n",
        "tokenized_text=tokenizer.tokenize(orignal_text)\n",
        "print(\"Tokenized & RE Removal: \", tokenized_text)\n",
        "\n",
        "#Step-2: Stop word removal\n",
        "stop_words = set(stopwords.words('english'))                                    #make a dictionary of stopwords\n",
        "stop_filtered_sentence = [w for w in tokenized_text if not w.lower() in stop_words]\n",
        "stop_filtered_sentence = []                                                     #words after removing stop words\n",
        "\n",
        "for w in tokenized_text:                                                        #remove all the stop words based on given dictionary\n",
        "  if w not in stop_words:\n",
        "    stop_filtered_sentence.append(w)\n",
        "    \n",
        "print(\"Stop Words Removed: \\t\",stop_filtered_sentence)\n",
        "\n",
        "#Step-3: Stemming\n",
        "stemmer=PorterStemmer()\n",
        "stemmed_sentence=[]\n",
        "for _word in stop_filtered_sentence:\n",
        "  stemmed_sentence.append(stemmer.stem(_word))\n",
        "print(\"Stemmed: \\t\\t\",stemmed_sentence)\n",
        "\n",
        "#Step-4: lemmatization \n",
        "lemmatizer=WordNetLemmatizer()\n",
        "\n",
        "#Step-4: Option 1: Simplified Lemmatization technique, with less accuracy\n",
        "\n",
        "\n",
        "lemmatized_sentence = []\n",
        "for _word in stemmed_sentence:\n",
        "  lemmatized_sentence.append(lemmatizer.lemmatize(_word, pos =\"a\"))\n",
        "  # lemmatized_sentence.append(lemmatizer.lemmatize(_word, pos =\"v\"))           #Lemitization w.r.t Part\n",
        "print(\"Lematized, Option1: \\t\\t\",lemmatized_sentence,\"\\n\")\n",
        "\n",
        "\n",
        "#Step-4: Option 2: POS based Lemmatization, with better accuracy\n",
        "\n",
        "# Define function to lemmatize each word with its POS tag\n",
        "def pos_tagger(nltk_tag):\n",
        "    if nltk_tag.startswith('J'):                                                # Handles Adjectives\n",
        "        return wordnet.ADJ\n",
        "    elif nltk_tag.startswith('V'):                                              # Handles Verbs\n",
        "        return wordnet.VERB\n",
        "    elif nltk_tag.startswith('N'):                                              # Handles Nouns      \n",
        "        return wordnet.NOUN\n",
        "    elif nltk_tag.startswith('R'):                                              # Handles Adverbs\n",
        "        return wordnet.ADV\n",
        "    else:                                                                       # Excluding all other types of POS\n",
        "        return None                                                             \n",
        "\n",
        "\n",
        "# Find the POS tag for each token\n",
        "# pos_tagged_sentence = nltk.pos_tag(stemmed_sentence) \n",
        "pos_tagged_sentence = nltk.pos_tag(stop_filtered_sentence)                            # Better results when stemming is skipped\n",
        "\n",
        "# print(\"POS Tagged: \\t\\t\",pos_tagged_sentence)\n",
        "\n",
        "# used own pos_tagger function to make things simpler to understand.\n",
        "wordnet_tagged = list(map(lambda x: (x[0], pos_tagger(x[1])), pos_tagged_sentence))\n",
        "# print(\"POS Simplified Tagged: \\t\",pos_tagged_sentence)\n",
        "\n",
        "pos_lemmatized_sentence = []\n",
        "for word, tag in wordnet_tagged:\n",
        "    if tag is not None:    \n",
        "        pos_lemmatized_sentence.append(lemmatizer.lemmatize(word, tag))\n",
        "\n",
        "print(\"Lematized, Option 2: \\t\\t\",pos_lemmatized_sentence)\n",
        "\n",
        "#Step-4 (extra): Stemming after Lemmatization\n",
        "stemmer=PorterStemmer()\n",
        "stemmed_after_lematization=[]\n",
        "for _word in pos_lemmatized_sentence:\n",
        "  stemmed_after_lematization.append(stemmer.stem(_word))\n",
        "print(\"Stemmed on Lemzatized (Alternate Approach): \\t\",stemmed_after_lematization)\n",
        "\n",
        "#step-4: name entity recognition\n",
        "# pos_sentence = nltk.pos_tag(lemmatized_sentence)\n",
        "# name entity recognition left for you\n",
        "# named_entities = ne_chunk(pos_sentence)"
      ],
      "metadata": {
        "colab": {
          "base_uri": "https://localhost:8080/"
        },
        "id": "3zEyv1qdpqJa",
        "outputId": "a38b630a-72c0-4f72-9044-8253be5ecd2b"
      },
      "execution_count": 2,
      "outputs": [
        {
          "output_type": "stream",
          "name": "stdout",
          "text": [
            "Oringal Text: \t\t ISLAMABAD: Pakistan is likely to remain on the so-called grey list of the Financial Action Task Force (FATF) for another four months — i.e. until June — for a couple of unmet targets under the additional criteria. The concluding session of the plenary meeting of the FATF, a Paris-based global money laundering and terrorist financing watchdog, is due on Friday (today) and includes Pakistan’s review on the agenda. Pakistan is now targeting the full completion of the 2021 action plan on anti-money laundering and combating terror financing (AML/CFT) by the end of January 2023. Pakistan has been on the grey list for deficiencies in its counter-terror financing and anti-money laundering regimes since June 2018.\n",
            "Tokenized & RE Removal:  ['ISLAMABAD', 'Pakistan', 'is', 'likely', 'to', 'remain', 'on', 'the', 'so', 'called', 'grey', 'list', 'of', 'the', 'Financial', 'Action', 'Task', 'Force', 'FATF', 'for', 'another', 'four', 'months', 'i', 'e', 'until', 'June', 'for', 'a', 'couple', 'of', 'unmet', 'targets', 'under', 'the', 'additional', 'criteria', 'The', 'concluding', 'session', 'of', 'the', 'plenary', 'meeting', 'of', 'the', 'FATF', 'a', 'Paris', 'based', 'global', 'money', 'laundering', 'and', 'terrorist', 'financing', 'watchdog', 'is', 'due', 'on', 'Friday', 'today', 'and', 'includes', 'Pakistan', 's', 'review', 'on', 'the', 'agenda', 'Pakistan', 'is', 'now', 'targeting', 'the', 'full', 'completion', 'of', 'the', '2021', 'action', 'plan', 'on', 'anti', 'money', 'laundering', 'and', 'combating', 'terror', 'financing', 'AML', 'CFT', 'by', 'the', 'end', 'of', 'January', '2023', 'Pakistan', 'has', 'been', 'on', 'the', 'grey', 'list', 'for', 'deficiencies', 'in', 'its', 'counter', 'terror', 'financing', 'and', 'anti', 'money', 'laundering', 'regimes', 'since', 'June', '2018']\n",
            "Stop Words Removed: \t ['ISLAMABAD', 'Pakistan', 'likely', 'remain', 'called', 'grey', 'list', 'Financial', 'Action', 'Task', 'Force', 'FATF', 'another', 'four', 'months', 'e', 'June', 'couple', 'unmet', 'targets', 'additional', 'criteria', 'The', 'concluding', 'session', 'plenary', 'meeting', 'FATF', 'Paris', 'based', 'global', 'money', 'laundering', 'terrorist', 'financing', 'watchdog', 'due', 'Friday', 'today', 'includes', 'Pakistan', 'review', 'agenda', 'Pakistan', 'targeting', 'full', 'completion', '2021', 'action', 'plan', 'anti', 'money', 'laundering', 'combating', 'terror', 'financing', 'AML', 'CFT', 'end', 'January', '2023', 'Pakistan', 'grey', 'list', 'deficiencies', 'counter', 'terror', 'financing', 'anti', 'money', 'laundering', 'regimes', 'since', 'June', '2018']\n",
            "Stemmed: \t\t ['islamabad', 'pakistan', 'like', 'remain', 'call', 'grey', 'list', 'financi', 'action', 'task', 'forc', 'fatf', 'anoth', 'four', 'month', 'e', 'june', 'coupl', 'unmet', 'target', 'addit', 'criteria', 'the', 'conclud', 'session', 'plenari', 'meet', 'fatf', 'pari', 'base', 'global', 'money', 'launder', 'terrorist', 'financ', 'watchdog', 'due', 'friday', 'today', 'includ', 'pakistan', 'review', 'agenda', 'pakistan', 'target', 'full', 'complet', '2021', 'action', 'plan', 'anti', 'money', 'launder', 'combat', 'terror', 'financ', 'aml', 'cft', 'end', 'januari', '2023', 'pakistan', 'grey', 'list', 'defici', 'counter', 'terror', 'financ', 'anti', 'money', 'launder', 'regim', 'sinc', 'june', '2018']\n",
            "Lematized, Option1: \t\t ['islamabad', 'pakistan', 'like', 'remain', 'call', 'grey', 'list', 'financi', 'action', 'task', 'forc', 'fatf', 'anoth', 'four', 'month', 'e', 'june', 'coupl', 'unmet', 'target', 'addit', 'criteria', 'the', 'conclud', 'session', 'plenari', 'meet', 'fatf', 'pari', 'base', 'global', 'money', 'launder', 'terrorist', 'financ', 'watchdog', 'due', 'friday', 'today', 'includ', 'pakistan', 'review', 'agenda', 'pakistan', 'target', 'full', 'complet', '2021', 'action', 'plan', 'anti', 'money', 'launder', 'combat', 'terror', 'financ', 'aml', 'cft', 'end', 'januari', '2023', 'pakistan', 'grey', 'list', 'defici', 'counter', 'terror', 'financ', 'anti', 'money', 'launder', 'regim', 'sinc', 'june', '2018'] \n",
            "\n",
            "Lematized, Option 2: \t\t ['ISLAMABAD', 'Pakistan', 'likely', 'remain', 'call', 'grey', 'list', 'Financial', 'Action', 'Task', 'Force', 'FATF', 'month', 'June', 'couple', 'unmet', 'target', 'additional', 'criterion', 'concluding', 'session', 'plenary', 'meeting', 'FATF', 'Paris', 'base', 'global', 'money', 'launder', 'terrorist', 'financing', 'watchdog', 'due', 'Friday', 'today', 'include', 'Pakistan', 'review', 'agenda', 'Pakistan', 'target', 'full', 'completion', 'action', 'plan', 'anti', 'money', 'laundering', 'combat', 'terror', 'financing', 'AML', 'CFT', 'end', 'January', 'Pakistan', 'grey', 'list', 'deficiency', 'counter', 'terror', 'financing', 'anti', 'money', 'laundering', 'regime', 'June']\n",
            "Stemmed on Lemzatized (Alternate Approach): \t ['islamabad', 'pakistan', 'like', 'remain', 'call', 'grey', 'list', 'financi', 'action', 'task', 'forc', 'fatf', 'month', 'june', 'coupl', 'unmet', 'target', 'addit', 'criterion', 'conclud', 'session', 'plenari', 'meet', 'fatf', 'pari', 'base', 'global', 'money', 'launder', 'terrorist', 'financ', 'watchdog', 'due', 'friday', 'today', 'includ', 'pakistan', 'review', 'agenda', 'pakistan', 'target', 'full', 'complet', 'action', 'plan', 'anti', 'money', 'launder', 'combat', 'terror', 'financ', 'aml', 'cft', 'end', 'januari', 'pakistan', 'grey', 'list', 'defici', 'counter', 'terror', 'financ', 'anti', 'money', 'launder', 'regim', 'june']\n"
          ]
        }
      ]
    }
  ]
}